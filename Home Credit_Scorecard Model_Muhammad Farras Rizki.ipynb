{
 "cells": [
  {
   "cell_type": "markdown",
   "id": "5e14ad57",
   "metadata": {},
   "source": [
    "# Home Credit Scorecard Model\n",
    "Project by Muhammad Farras Rizki"
   ]
  },
  {
   "cell_type": "markdown",
   "id": "ce462820",
   "metadata": {},
   "source": [
    "### Latar Belakang\n",
    "Dataframe yang digunakan milik Home Credit Indonesia. Manajemen Home Credit Indonesia ingin membuat membuat prediksi skor kredit. Dengan tujuan, dapat memastikan pelanggan yang mampu melakukan pelunasan tidak ditolak ketika melakukan pengajuan pinjaman, dan pinjaman datap diberikan dengan principal, maturity, dan repayment calendar yang akan memotivsi pelanggan untuk sukses.\n",
    "\n",
    "\n",
    "### Tentang Dataframe\n",
    "Dataframe `application_train` berisikan 307511 baris yang merupakan ID transaksi peminjaman pelanggan yang telah terlaksana, baik yang berhasil maupun yang gagal. Data tersebut meliputi informasi demografis pelanggan (umur, pendapatan, dll), hubungan nasabah dengan bank (hipotek, rekening, surat berharga, dll), dan status akhir hasil pengajuan pinjaman nasabah (`TARGET`). Di antara 307511 nasabah ini, terdapat 24000 pelanggan (8%) yang mengalami gagal bayar.\n",
    "\n",
    "\n",
    "### Tujuan Proyek\n",
    "Membuat Model Machine Learning yang dapat memberikan sebuah score kelayakan pada client dalam memperoleh pinjaman.\n",
    "\n",
    "\n",
    "### Sumber Dataset\n",
    "Sumber: https://rakamin-lms.s3.ap-southeast-1.amazonaws.com/vix-assets/home-credit-indonesia/home-credit-default-risk.zip\n",
    "\n",
    "\n",
    "### Deskripsi Singkat Pemodelan \n",
    "Tujuan dari pemodelan adalah ingin membuat model yang mampu memprediksi skor kredit seorang pelanggan, agar dapat memastikan pelanggan yang mampu melakukan pelunasan tidak ditolak ketika melakukan pengajuan pinjaman. Target Variabel yang akan digunakan adalah `TARGET` (status akhir hasil pengajuan pinjaman nasabah sebelumnya). Variabel yang paling diinginkan untuk optimal adalah F1-score karena ingin meminimalisir false positive maupun false negative.\n",
    "\n",
    "Prediksi / Hipotesis yang dibuat berdasarkan target variabel :\n",
    "- 0: Pelanggan mampu melakukan pelunasan (Positive)\n",
    "- 1: Pelanggan tidak mampu melakukan pelunasan (Negative)\n",
    "- False Positive: Diprediksi pelanggan mampu mampu melakukan pelunasan, Namun aktualnya pelanggan tidak mampu melakukan pelunasan\n",
    "- False Negative: Diprediksi pelanggan tidak mampu melakukan pelunasan, Namun aktualnya pelanggan mampu melakukan pelunasan\n",
    "\n",
    "Model Machine Learning yang akan diuji antara lain:\n",
    "1. Logical Regression\n",
    "2. K-NN\n",
    "3. Naive Bayes\n",
    "4. Decision Tree Classification"
   ]
  },
  {
   "cell_type": "markdown",
   "id": "5cf7f36a",
   "metadata": {},
   "source": [
    "# Data Preparation"
   ]
  },
  {
   "cell_type": "markdown",
   "id": "2b512172",
   "metadata": {},
   "source": [
    "## 1. Import Library"
   ]
  },
  {
   "cell_type": "code",
   "execution_count": 1,
   "id": "d61a26ca",
   "metadata": {},
   "outputs": [],
   "source": [
    "import pandas as pd\n",
    "import numpy as np\n",
    "import matplotlib.pyplot as plt\n",
    "import seaborn as sns\n",
    "\n",
    "import warnings\n",
    "warnings.simplefilter(action='ignore')\n",
    "\n",
    "from sklearn.preprocessing import LabelEncoder\n",
    "from sklearn.model_selection import train_test_split\n",
    "from sklearn.ensemble import RandomForestClassifier\n",
    "from sklearn.metrics import classification_report\n",
    "from sklearn.metrics import confusion_matrix\n",
    "\n",
    "from sklearn.metrics import accuracy_score\n",
    "from sklearn.metrics import precision_score\n",
    "from sklearn.metrics import recall_score\n",
    "from sklearn.metrics import f1_score\n",
    "from tqdm import tqdm\n",
    "\n",
    "from collections import Counter\n",
    "from imblearn.under_sampling import RandomUnderSampler\n",
    "from imblearn.over_sampling import SMOTE\n",
    "from imblearn.pipeline import Pipeline\n",
    "\n",
    "from sklearn.neighbors import KNeighborsClassifier\n",
    "from sklearn.linear_model import LogisticRegression\n",
    "from sklearn.tree import DecisionTreeClassifier\n",
    "from sklearn.ensemble import RandomForestClassifier\n",
    "from sklearn.naive_bayes import GaussianNB\n",
    "\n",
    "from statsmodels.stats.outliers_influence import variance_inflation_factor as vif \n",
    "from statsmodels.tools.tools import add_constant\n",
    "\n",
    "\n",
    "\n",
    "from scipy.stats import chi2_contingency\n",
    "from sklearn.feature_selection import mutual_info_classif\n",
    "\n",
    "from sklearn.metrics import ConfusionMatrixDisplay\n",
    "from sklearn.metrics import (recall_score,\n",
    "                            precision_score,\n",
    "                            f1_score,\n",
    "                            classification_report,\n",
    "                            roc_auc_score)\n",
    "\n",
    "from yellowbrick.classifier import ConfusionMatrix\n",
    "from yellowbrick.classifier import ROCAUC"
   ]
  },
  {
   "cell_type": "markdown",
   "id": "655f1f43",
   "metadata": {},
   "source": [
    "## 2. Import Data"
   ]
  },
  {
   "cell_type": "code",
   "execution_count": 2,
   "id": "9cd96a90",
   "metadata": {},
   "outputs": [],
   "source": [
    "application_train = pd.read_csv('home-credit-default-risk/application_train.csv')"
   ]
  },
  {
   "cell_type": "markdown",
   "id": "4b9838e4",
   "metadata": {},
   "source": [
    "## 3. Function Definition"
   ]
  },
  {
   "cell_type": "markdown",
   "id": "037a5d35",
   "metadata": {},
   "source": [
    "### 3.1 Check Info Data"
   ]
  },
  {
   "cell_type": "code",
   "execution_count": 3,
   "id": "aadc809b",
   "metadata": {},
   "outputs": [],
   "source": [
    "def info_data(data) :\n",
    "    pd.set_option('display.max_rows',None)\n",
    "    missing_values = data.isnull().sum()\n",
    "    missing_perc = (missing_values/len(data))*100\n",
    "    data_type = data.dtypes\n",
    "    num_unique = data.nunique()\n",
    "    \n",
    "    print (f'Number of Rows,Columns {data.shape}')\n",
    "    print (f'Number of Duplicated Values {data.duplicated().sum()}')\n",
    "    \n",
    "    return pd.DataFrame ({'Missing_value' : missing_values,\n",
    "                          'Percent_missing_%' : missing_perc,\n",
    "                          'Data_type' : data_type,\n",
    "                          'Number of Unique' : num_unique}).sort_values('Percent_missing_%',ascending=False)"
   ]
  },
  {
   "cell_type": "markdown",
   "id": "a1d4d263",
   "metadata": {},
   "source": [
    "### 3.2 Check Outliers"
   ]
  },
  {
   "cell_type": "code",
   "execution_count": 4,
   "id": "1290cdd1",
   "metadata": {},
   "outputs": [],
   "source": [
    "def outlier(df,column) :\n",
    "    q1 = df[column].quantile(0.25)\n",
    "    q3 = df[column].quantile(0.75)\n",
    "    iqr = q3-q1\n",
    "    lower = q1 - (1.5*iqr)\n",
    "    upper = q3 + (1.5*iqr)\n",
    "    \n",
    "    outlier_list=df[column].apply(lambda x:'outlier' if x<lower or x>upper else 'not-outlier')\n",
    "    print (f' outlier lower limit : {lower} \\n outlier upper limit : {upper}')\n",
    "    return outlier_list"
   ]
  },
  {
   "cell_type": "markdown",
   "id": "3412777c",
   "metadata": {},
   "source": [
    "### 3.3 Uji Statistik"
   ]
  },
  {
   "cell_type": "code",
   "execution_count": 5,
   "id": "417069f0",
   "metadata": {},
   "outputs": [],
   "source": [
    "def chi_cek (x,y) :\n",
    "    \n",
    "    obs_x = pd.crosstab(X_train[x],X_train[y])\n",
    "    chi2, p, dof, expected = chi2_contingency(obs_x)\n",
    "    alpha = 0.05\n",
    "\n",
    "    \n",
    "    if p<alpha :\n",
    "        print (f'===== {x} =====')\n",
    "        print('Number Expected :')\n",
    "        print(expected)\n",
    "        print()\n",
    "        print (f'Chi-square Statistic : {chi2} ,p-value: {p} kurang dari {alpha} \\nVariabel 1 dan Variabel 2 adalah variabel dependent')\n",
    "        print()\n",
    "        \n",
    "    else : \n",
    "        print (f'===== {x} =====')\n",
    "        print('Number Expected :')\n",
    "        print(expected)\n",
    "        print()\n",
    "        print (f'Chi-square Statistic : {chi2} ,p-value: {p} lebih dari {alpha} \\nVariabel 1 dan Variabel 2 adalah variabel independent')\n",
    "        print()"
   ]
  },
  {
   "cell_type": "code",
   "execution_count": 6,
   "id": "763e40d0",
   "metadata": {},
   "outputs": [],
   "source": [
    "def annova_cek (x) :\n",
    "    churn_yes = X_train[X_train['Churn']==1][x]\n",
    "    churn_no  = X_train[X_train['Churn']==0][x]\n",
    "\n",
    "    alpha = 0.05\n",
    "    ftest,p_value = f_oneway(churn_yes,churn_no)\n",
    "\n",
    "    if p_value < alpha :\n",
    "        print(x)\n",
    "        print(f'Kesimpulan : nilai p_value {p_value} kurang dari alpha {alpha}, nilai ftest = {ftest}')\n",
    "        print('Terdapat perbedaan target yang signifikan dari segi predictor')\n",
    "        print()\n",
    "\n",
    "    else :\n",
    "        print(x)\n",
    "        print(f'Kesimpulan : nilai p_value {p_value} lebih dari alpha {alpha}, nilai ftest = {ftest}')\n",
    "        print('Tidak terdapat perbedaan target yang signifikan dari segi predictor')\n",
    "        print()"
   ]
  },
  {
   "cell_type": "markdown",
   "id": "c4ad8931",
   "metadata": {},
   "source": [
    "### 3.4 Model Evaluation"
   ]
  },
  {
   "cell_type": "code",
   "execution_count": 7,
   "id": "c2dd68d7",
   "metadata": {},
   "outputs": [],
   "source": [
    "def eval_train (X,y,model) :\n",
    "    model.fit(X,y)\n",
    "    prediction = model.predict(X)\n",
    "    \n",
    "    cm = confusion_matrix(y,prediction,labels=model.classes_)\n",
    "    disp = ConfusionMatrixDisplay(confusion_matrix = cm,\n",
    "                                  display_labels=model.classes_)\n",
    "    \n",
    "    print(f' Recall Score : {recall_score(y,prediction)}')\n",
    "    print(f' Precision Score : {precision_score(y,prediction)}')\n",
    "    print(f' F1 Score : {f1_score(y,prediction)}')\n",
    "    print(f' ROC-AUC Score : {roc_auc_score(y,model.predict_proba(X)[:,1])}')\n",
    "    \n",
    "    disp.plot()"
   ]
  },
  {
   "cell_type": "code",
   "execution_count": 8,
   "id": "55ca6ad5",
   "metadata": {},
   "outputs": [],
   "source": [
    "def eval_test (X,y,model) :\n",
    "    prediction = model.predict(X)\n",
    "    \n",
    "    cm = confusion_matrix(y,prediction,labels=model.classes_)\n",
    "    disp = ConfusionMatrixDisplay(confusion_matrix = cm,\n",
    "                                  display_labels=model.classes_)\n",
    "    \n",
    "    print(f' Recall Score : {recall_score(y,prediction)}')\n",
    "    print(f' Precision Score : {precision_score(y,prediction)}')\n",
    "    print(f' F1 Score : {f1_score(y,prediction)}')\n",
    "    print(f' ROC-AUC Score : {roc_auc_score(y,model.predict_proba(X)[:,1])}')\n",
    "    \n",
    "    disp.plot()"
   ]
  },
  {
   "cell_type": "markdown",
   "id": "b7e6cecf",
   "metadata": {},
   "source": [
    "## 4. Data Inspection"
   ]
  },
  {
   "cell_type": "code",
   "execution_count": 9,
   "id": "88c27bc8",
   "metadata": {},
   "outputs": [
    {
     "data": {
      "text/html": [
       "<div>\n",
       "<style scoped>\n",
       "    .dataframe tbody tr th:only-of-type {\n",
       "        vertical-align: middle;\n",
       "    }\n",
       "\n",
       "    .dataframe tbody tr th {\n",
       "        vertical-align: top;\n",
       "    }\n",
       "\n",
       "    .dataframe thead th {\n",
       "        text-align: right;\n",
       "    }\n",
       "</style>\n",
       "<table border=\"1\" class=\"dataframe\">\n",
       "  <thead>\n",
       "    <tr style=\"text-align: right;\">\n",
       "      <th></th>\n",
       "      <th>SK_ID_CURR</th>\n",
       "      <th>TARGET</th>\n",
       "      <th>NAME_CONTRACT_TYPE</th>\n",
       "      <th>CODE_GENDER</th>\n",
       "      <th>FLAG_OWN_CAR</th>\n",
       "      <th>FLAG_OWN_REALTY</th>\n",
       "      <th>CNT_CHILDREN</th>\n",
       "      <th>AMT_INCOME_TOTAL</th>\n",
       "      <th>AMT_CREDIT</th>\n",
       "      <th>AMT_ANNUITY</th>\n",
       "      <th>...</th>\n",
       "      <th>FLAG_DOCUMENT_18</th>\n",
       "      <th>FLAG_DOCUMENT_19</th>\n",
       "      <th>FLAG_DOCUMENT_20</th>\n",
       "      <th>FLAG_DOCUMENT_21</th>\n",
       "      <th>AMT_REQ_CREDIT_BUREAU_HOUR</th>\n",
       "      <th>AMT_REQ_CREDIT_BUREAU_DAY</th>\n",
       "      <th>AMT_REQ_CREDIT_BUREAU_WEEK</th>\n",
       "      <th>AMT_REQ_CREDIT_BUREAU_MON</th>\n",
       "      <th>AMT_REQ_CREDIT_BUREAU_QRT</th>\n",
       "      <th>AMT_REQ_CREDIT_BUREAU_YEAR</th>\n",
       "    </tr>\n",
       "  </thead>\n",
       "  <tbody>\n",
       "    <tr>\n",
       "      <th>0</th>\n",
       "      <td>100002</td>\n",
       "      <td>1</td>\n",
       "      <td>Cash loans</td>\n",
       "      <td>M</td>\n",
       "      <td>N</td>\n",
       "      <td>Y</td>\n",
       "      <td>0</td>\n",
       "      <td>202500.0</td>\n",
       "      <td>406597.5</td>\n",
       "      <td>24700.5</td>\n",
       "      <td>...</td>\n",
       "      <td>0</td>\n",
       "      <td>0</td>\n",
       "      <td>0</td>\n",
       "      <td>0</td>\n",
       "      <td>0.0</td>\n",
       "      <td>0.0</td>\n",
       "      <td>0.0</td>\n",
       "      <td>0.0</td>\n",
       "      <td>0.0</td>\n",
       "      <td>1.0</td>\n",
       "    </tr>\n",
       "    <tr>\n",
       "      <th>1</th>\n",
       "      <td>100003</td>\n",
       "      <td>0</td>\n",
       "      <td>Cash loans</td>\n",
       "      <td>F</td>\n",
       "      <td>N</td>\n",
       "      <td>N</td>\n",
       "      <td>0</td>\n",
       "      <td>270000.0</td>\n",
       "      <td>1293502.5</td>\n",
       "      <td>35698.5</td>\n",
       "      <td>...</td>\n",
       "      <td>0</td>\n",
       "      <td>0</td>\n",
       "      <td>0</td>\n",
       "      <td>0</td>\n",
       "      <td>0.0</td>\n",
       "      <td>0.0</td>\n",
       "      <td>0.0</td>\n",
       "      <td>0.0</td>\n",
       "      <td>0.0</td>\n",
       "      <td>0.0</td>\n",
       "    </tr>\n",
       "    <tr>\n",
       "      <th>2</th>\n",
       "      <td>100004</td>\n",
       "      <td>0</td>\n",
       "      <td>Revolving loans</td>\n",
       "      <td>M</td>\n",
       "      <td>Y</td>\n",
       "      <td>Y</td>\n",
       "      <td>0</td>\n",
       "      <td>67500.0</td>\n",
       "      <td>135000.0</td>\n",
       "      <td>6750.0</td>\n",
       "      <td>...</td>\n",
       "      <td>0</td>\n",
       "      <td>0</td>\n",
       "      <td>0</td>\n",
       "      <td>0</td>\n",
       "      <td>0.0</td>\n",
       "      <td>0.0</td>\n",
       "      <td>0.0</td>\n",
       "      <td>0.0</td>\n",
       "      <td>0.0</td>\n",
       "      <td>0.0</td>\n",
       "    </tr>\n",
       "    <tr>\n",
       "      <th>3</th>\n",
       "      <td>100006</td>\n",
       "      <td>0</td>\n",
       "      <td>Cash loans</td>\n",
       "      <td>F</td>\n",
       "      <td>N</td>\n",
       "      <td>Y</td>\n",
       "      <td>0</td>\n",
       "      <td>135000.0</td>\n",
       "      <td>312682.5</td>\n",
       "      <td>29686.5</td>\n",
       "      <td>...</td>\n",
       "      <td>0</td>\n",
       "      <td>0</td>\n",
       "      <td>0</td>\n",
       "      <td>0</td>\n",
       "      <td>NaN</td>\n",
       "      <td>NaN</td>\n",
       "      <td>NaN</td>\n",
       "      <td>NaN</td>\n",
       "      <td>NaN</td>\n",
       "      <td>NaN</td>\n",
       "    </tr>\n",
       "    <tr>\n",
       "      <th>4</th>\n",
       "      <td>100007</td>\n",
       "      <td>0</td>\n",
       "      <td>Cash loans</td>\n",
       "      <td>M</td>\n",
       "      <td>N</td>\n",
       "      <td>Y</td>\n",
       "      <td>0</td>\n",
       "      <td>121500.0</td>\n",
       "      <td>513000.0</td>\n",
       "      <td>21865.5</td>\n",
       "      <td>...</td>\n",
       "      <td>0</td>\n",
       "      <td>0</td>\n",
       "      <td>0</td>\n",
       "      <td>0</td>\n",
       "      <td>0.0</td>\n",
       "      <td>0.0</td>\n",
       "      <td>0.0</td>\n",
       "      <td>0.0</td>\n",
       "      <td>0.0</td>\n",
       "      <td>0.0</td>\n",
       "    </tr>\n",
       "  </tbody>\n",
       "</table>\n",
       "<p>5 rows × 122 columns</p>\n",
       "</div>"
      ],
      "text/plain": [
       "   SK_ID_CURR  TARGET NAME_CONTRACT_TYPE CODE_GENDER FLAG_OWN_CAR  \\\n",
       "0      100002       1         Cash loans           M            N   \n",
       "1      100003       0         Cash loans           F            N   \n",
       "2      100004       0    Revolving loans           M            Y   \n",
       "3      100006       0         Cash loans           F            N   \n",
       "4      100007       0         Cash loans           M            N   \n",
       "\n",
       "  FLAG_OWN_REALTY  CNT_CHILDREN  AMT_INCOME_TOTAL  AMT_CREDIT  AMT_ANNUITY  \\\n",
       "0               Y             0          202500.0    406597.5      24700.5   \n",
       "1               N             0          270000.0   1293502.5      35698.5   \n",
       "2               Y             0           67500.0    135000.0       6750.0   \n",
       "3               Y             0          135000.0    312682.5      29686.5   \n",
       "4               Y             0          121500.0    513000.0      21865.5   \n",
       "\n",
       "   ...  FLAG_DOCUMENT_18 FLAG_DOCUMENT_19 FLAG_DOCUMENT_20 FLAG_DOCUMENT_21  \\\n",
       "0  ...                 0                0                0                0   \n",
       "1  ...                 0                0                0                0   \n",
       "2  ...                 0                0                0                0   \n",
       "3  ...                 0                0                0                0   \n",
       "4  ...                 0                0                0                0   \n",
       "\n",
       "  AMT_REQ_CREDIT_BUREAU_HOUR AMT_REQ_CREDIT_BUREAU_DAY  \\\n",
       "0                        0.0                       0.0   \n",
       "1                        0.0                       0.0   \n",
       "2                        0.0                       0.0   \n",
       "3                        NaN                       NaN   \n",
       "4                        0.0                       0.0   \n",
       "\n",
       "   AMT_REQ_CREDIT_BUREAU_WEEK  AMT_REQ_CREDIT_BUREAU_MON  \\\n",
       "0                         0.0                        0.0   \n",
       "1                         0.0                        0.0   \n",
       "2                         0.0                        0.0   \n",
       "3                         NaN                        NaN   \n",
       "4                         0.0                        0.0   \n",
       "\n",
       "   AMT_REQ_CREDIT_BUREAU_QRT  AMT_REQ_CREDIT_BUREAU_YEAR  \n",
       "0                        0.0                         1.0  \n",
       "1                        0.0                         0.0  \n",
       "2                        0.0                         0.0  \n",
       "3                        NaN                         NaN  \n",
       "4                        0.0                         0.0  \n",
       "\n",
       "[5 rows x 122 columns]"
      ]
     },
     "execution_count": 9,
     "metadata": {},
     "output_type": "execute_result"
    }
   ],
   "source": [
    "application_train.head()"
   ]
  },
  {
   "cell_type": "markdown",
   "id": "a5326d67",
   "metadata": {},
   "source": [
    "### 4.1 Pilih Features"
   ]
  },
  {
   "cell_type": "code",
   "execution_count": 11,
   "id": "e8d3cca6",
   "metadata": {},
   "outputs": [],
   "source": [
    "# Memilih fitur yang akan digunakan (Secara bussiness sense / tanpa riset)\n",
    "df = application_train[['SK_ID_CURR',\n",
    "'NAME_CONTRACT_TYPE',\n",
    "'CODE_GENDER',\n",
    "'FLAG_OWN_CAR',\n",
    "'FLAG_OWN_REALTY',\n",
    "'CNT_CHILDREN',\n",
    "'AMT_INCOME_TOTAL',\n",
    "'AMT_CREDIT',\n",
    "'DAYS_BIRTH',\n",
    "'CNT_FAM_MEMBERS',\n",
    "'REGION_RATING_CLIENT',\n",
    "'WEEKDAY_APPR_PROCESS_START',\n",
    "'REG_REGION_NOT_LIVE_REGION',\n",
    "'TARGET']]"
   ]
  },
  {
   "cell_type": "code",
   "execution_count": 115,
   "id": "5bd3aa4f",
   "metadata": {},
   "outputs": [
    {
     "data": {
      "text/plain": [
       "0    282680\n",
       "1     24825\n",
       "Name: TARGET, dtype: int64"
      ]
     },
     "execution_count": 115,
     "metadata": {},
     "output_type": "execute_result"
    }
   ],
   "source": [
    "df['TARGET'].value_counts()"
   ]
  },
  {
   "cell_type": "code",
   "execution_count": 12,
   "id": "2de5d1b8",
   "metadata": {},
   "outputs": [
    {
     "data": {
      "text/html": [
       "<div>\n",
       "<style scoped>\n",
       "    .dataframe tbody tr th:only-of-type {\n",
       "        vertical-align: middle;\n",
       "    }\n",
       "\n",
       "    .dataframe tbody tr th {\n",
       "        vertical-align: top;\n",
       "    }\n",
       "\n",
       "    .dataframe thead th {\n",
       "        text-align: right;\n",
       "    }\n",
       "</style>\n",
       "<table border=\"1\" class=\"dataframe\">\n",
       "  <thead>\n",
       "    <tr style=\"text-align: right;\">\n",
       "      <th></th>\n",
       "      <th>SK_ID_CURR</th>\n",
       "      <th>NAME_CONTRACT_TYPE</th>\n",
       "      <th>CODE_GENDER</th>\n",
       "      <th>FLAG_OWN_CAR</th>\n",
       "      <th>FLAG_OWN_REALTY</th>\n",
       "      <th>CNT_CHILDREN</th>\n",
       "      <th>AMT_INCOME_TOTAL</th>\n",
       "      <th>AMT_CREDIT</th>\n",
       "      <th>DAYS_BIRTH</th>\n",
       "      <th>CNT_FAM_MEMBERS</th>\n",
       "      <th>REGION_RATING_CLIENT</th>\n",
       "      <th>WEEKDAY_APPR_PROCESS_START</th>\n",
       "      <th>REG_REGION_NOT_LIVE_REGION</th>\n",
       "      <th>TARGET</th>\n",
       "    </tr>\n",
       "  </thead>\n",
       "  <tbody>\n",
       "    <tr>\n",
       "      <th>0</th>\n",
       "      <td>100002</td>\n",
       "      <td>Cash loans</td>\n",
       "      <td>M</td>\n",
       "      <td>N</td>\n",
       "      <td>Y</td>\n",
       "      <td>0</td>\n",
       "      <td>202500.0</td>\n",
       "      <td>406597.5</td>\n",
       "      <td>-9461</td>\n",
       "      <td>1.0</td>\n",
       "      <td>2</td>\n",
       "      <td>WEDNESDAY</td>\n",
       "      <td>0</td>\n",
       "      <td>1</td>\n",
       "    </tr>\n",
       "    <tr>\n",
       "      <th>1</th>\n",
       "      <td>100003</td>\n",
       "      <td>Cash loans</td>\n",
       "      <td>F</td>\n",
       "      <td>N</td>\n",
       "      <td>N</td>\n",
       "      <td>0</td>\n",
       "      <td>270000.0</td>\n",
       "      <td>1293502.5</td>\n",
       "      <td>-16765</td>\n",
       "      <td>2.0</td>\n",
       "      <td>1</td>\n",
       "      <td>MONDAY</td>\n",
       "      <td>0</td>\n",
       "      <td>0</td>\n",
       "    </tr>\n",
       "    <tr>\n",
       "      <th>2</th>\n",
       "      <td>100004</td>\n",
       "      <td>Revolving loans</td>\n",
       "      <td>M</td>\n",
       "      <td>Y</td>\n",
       "      <td>Y</td>\n",
       "      <td>0</td>\n",
       "      <td>67500.0</td>\n",
       "      <td>135000.0</td>\n",
       "      <td>-19046</td>\n",
       "      <td>1.0</td>\n",
       "      <td>2</td>\n",
       "      <td>MONDAY</td>\n",
       "      <td>0</td>\n",
       "      <td>0</td>\n",
       "    </tr>\n",
       "    <tr>\n",
       "      <th>3</th>\n",
       "      <td>100006</td>\n",
       "      <td>Cash loans</td>\n",
       "      <td>F</td>\n",
       "      <td>N</td>\n",
       "      <td>Y</td>\n",
       "      <td>0</td>\n",
       "      <td>135000.0</td>\n",
       "      <td>312682.5</td>\n",
       "      <td>-19005</td>\n",
       "      <td>2.0</td>\n",
       "      <td>2</td>\n",
       "      <td>WEDNESDAY</td>\n",
       "      <td>0</td>\n",
       "      <td>0</td>\n",
       "    </tr>\n",
       "    <tr>\n",
       "      <th>4</th>\n",
       "      <td>100007</td>\n",
       "      <td>Cash loans</td>\n",
       "      <td>M</td>\n",
       "      <td>N</td>\n",
       "      <td>Y</td>\n",
       "      <td>0</td>\n",
       "      <td>121500.0</td>\n",
       "      <td>513000.0</td>\n",
       "      <td>-19932</td>\n",
       "      <td>1.0</td>\n",
       "      <td>2</td>\n",
       "      <td>THURSDAY</td>\n",
       "      <td>0</td>\n",
       "      <td>0</td>\n",
       "    </tr>\n",
       "  </tbody>\n",
       "</table>\n",
       "</div>"
      ],
      "text/plain": [
       "   SK_ID_CURR NAME_CONTRACT_TYPE CODE_GENDER FLAG_OWN_CAR FLAG_OWN_REALTY  \\\n",
       "0      100002         Cash loans           M            N               Y   \n",
       "1      100003         Cash loans           F            N               N   \n",
       "2      100004    Revolving loans           M            Y               Y   \n",
       "3      100006         Cash loans           F            N               Y   \n",
       "4      100007         Cash loans           M            N               Y   \n",
       "\n",
       "   CNT_CHILDREN  AMT_INCOME_TOTAL  AMT_CREDIT  DAYS_BIRTH  CNT_FAM_MEMBERS  \\\n",
       "0             0          202500.0    406597.5       -9461              1.0   \n",
       "1             0          270000.0   1293502.5      -16765              2.0   \n",
       "2             0           67500.0    135000.0      -19046              1.0   \n",
       "3             0          135000.0    312682.5      -19005              2.0   \n",
       "4             0          121500.0    513000.0      -19932              1.0   \n",
       "\n",
       "   REGION_RATING_CLIENT WEEKDAY_APPR_PROCESS_START  \\\n",
       "0                     2                  WEDNESDAY   \n",
       "1                     1                     MONDAY   \n",
       "2                     2                     MONDAY   \n",
       "3                     2                  WEDNESDAY   \n",
       "4                     2                   THURSDAY   \n",
       "\n",
       "   REG_REGION_NOT_LIVE_REGION  TARGET  \n",
       "0                           0       1  \n",
       "1                           0       0  \n",
       "2                           0       0  \n",
       "3                           0       0  \n",
       "4                           0       0  "
      ]
     },
     "execution_count": 12,
     "metadata": {},
     "output_type": "execute_result"
    }
   ],
   "source": [
    "df.head()"
   ]
  },
  {
   "cell_type": "code",
   "execution_count": 13,
   "id": "a2a7927b",
   "metadata": {},
   "outputs": [
    {
     "name": "stdout",
     "output_type": "stream",
     "text": [
      "Number of Rows,Columns (307511, 14)\n",
      "Number of Duplicated Values 0\n"
     ]
    },
    {
     "data": {
      "text/html": [
       "<div>\n",
       "<style scoped>\n",
       "    .dataframe tbody tr th:only-of-type {\n",
       "        vertical-align: middle;\n",
       "    }\n",
       "\n",
       "    .dataframe tbody tr th {\n",
       "        vertical-align: top;\n",
       "    }\n",
       "\n",
       "    .dataframe thead th {\n",
       "        text-align: right;\n",
       "    }\n",
       "</style>\n",
       "<table border=\"1\" class=\"dataframe\">\n",
       "  <thead>\n",
       "    <tr style=\"text-align: right;\">\n",
       "      <th></th>\n",
       "      <th>Missing_value</th>\n",
       "      <th>Percent_missing_%</th>\n",
       "      <th>Data_type</th>\n",
       "      <th>Number of Unique</th>\n",
       "    </tr>\n",
       "  </thead>\n",
       "  <tbody>\n",
       "    <tr>\n",
       "      <th>CNT_FAM_MEMBERS</th>\n",
       "      <td>2</td>\n",
       "      <td>0.00065</td>\n",
       "      <td>float64</td>\n",
       "      <td>17</td>\n",
       "    </tr>\n",
       "    <tr>\n",
       "      <th>SK_ID_CURR</th>\n",
       "      <td>0</td>\n",
       "      <td>0.00000</td>\n",
       "      <td>int64</td>\n",
       "      <td>307511</td>\n",
       "    </tr>\n",
       "    <tr>\n",
       "      <th>NAME_CONTRACT_TYPE</th>\n",
       "      <td>0</td>\n",
       "      <td>0.00000</td>\n",
       "      <td>object</td>\n",
       "      <td>2</td>\n",
       "    </tr>\n",
       "    <tr>\n",
       "      <th>CODE_GENDER</th>\n",
       "      <td>0</td>\n",
       "      <td>0.00000</td>\n",
       "      <td>object</td>\n",
       "      <td>3</td>\n",
       "    </tr>\n",
       "    <tr>\n",
       "      <th>FLAG_OWN_CAR</th>\n",
       "      <td>0</td>\n",
       "      <td>0.00000</td>\n",
       "      <td>object</td>\n",
       "      <td>2</td>\n",
       "    </tr>\n",
       "    <tr>\n",
       "      <th>FLAG_OWN_REALTY</th>\n",
       "      <td>0</td>\n",
       "      <td>0.00000</td>\n",
       "      <td>object</td>\n",
       "      <td>2</td>\n",
       "    </tr>\n",
       "    <tr>\n",
       "      <th>CNT_CHILDREN</th>\n",
       "      <td>0</td>\n",
       "      <td>0.00000</td>\n",
       "      <td>int64</td>\n",
       "      <td>15</td>\n",
       "    </tr>\n",
       "    <tr>\n",
       "      <th>AMT_INCOME_TOTAL</th>\n",
       "      <td>0</td>\n",
       "      <td>0.00000</td>\n",
       "      <td>float64</td>\n",
       "      <td>2548</td>\n",
       "    </tr>\n",
       "    <tr>\n",
       "      <th>AMT_CREDIT</th>\n",
       "      <td>0</td>\n",
       "      <td>0.00000</td>\n",
       "      <td>float64</td>\n",
       "      <td>5603</td>\n",
       "    </tr>\n",
       "    <tr>\n",
       "      <th>DAYS_BIRTH</th>\n",
       "      <td>0</td>\n",
       "      <td>0.00000</td>\n",
       "      <td>int64</td>\n",
       "      <td>17460</td>\n",
       "    </tr>\n",
       "    <tr>\n",
       "      <th>REGION_RATING_CLIENT</th>\n",
       "      <td>0</td>\n",
       "      <td>0.00000</td>\n",
       "      <td>int64</td>\n",
       "      <td>3</td>\n",
       "    </tr>\n",
       "    <tr>\n",
       "      <th>WEEKDAY_APPR_PROCESS_START</th>\n",
       "      <td>0</td>\n",
       "      <td>0.00000</td>\n",
       "      <td>object</td>\n",
       "      <td>7</td>\n",
       "    </tr>\n",
       "    <tr>\n",
       "      <th>REG_REGION_NOT_LIVE_REGION</th>\n",
       "      <td>0</td>\n",
       "      <td>0.00000</td>\n",
       "      <td>int64</td>\n",
       "      <td>2</td>\n",
       "    </tr>\n",
       "    <tr>\n",
       "      <th>TARGET</th>\n",
       "      <td>0</td>\n",
       "      <td>0.00000</td>\n",
       "      <td>int64</td>\n",
       "      <td>2</td>\n",
       "    </tr>\n",
       "  </tbody>\n",
       "</table>\n",
       "</div>"
      ],
      "text/plain": [
       "                            Missing_value  Percent_missing_% Data_type  \\\n",
       "CNT_FAM_MEMBERS                         2            0.00065   float64   \n",
       "SK_ID_CURR                              0            0.00000     int64   \n",
       "NAME_CONTRACT_TYPE                      0            0.00000    object   \n",
       "CODE_GENDER                             0            0.00000    object   \n",
       "FLAG_OWN_CAR                            0            0.00000    object   \n",
       "FLAG_OWN_REALTY                         0            0.00000    object   \n",
       "CNT_CHILDREN                            0            0.00000     int64   \n",
       "AMT_INCOME_TOTAL                        0            0.00000   float64   \n",
       "AMT_CREDIT                              0            0.00000   float64   \n",
       "DAYS_BIRTH                              0            0.00000     int64   \n",
       "REGION_RATING_CLIENT                    0            0.00000     int64   \n",
       "WEEKDAY_APPR_PROCESS_START              0            0.00000    object   \n",
       "REG_REGION_NOT_LIVE_REGION              0            0.00000     int64   \n",
       "TARGET                                  0            0.00000     int64   \n",
       "\n",
       "                            Number of Unique  \n",
       "CNT_FAM_MEMBERS                           17  \n",
       "SK_ID_CURR                            307511  \n",
       "NAME_CONTRACT_TYPE                         2  \n",
       "CODE_GENDER                                3  \n",
       "FLAG_OWN_CAR                               2  \n",
       "FLAG_OWN_REALTY                            2  \n",
       "CNT_CHILDREN                              15  \n",
       "AMT_INCOME_TOTAL                        2548  \n",
       "AMT_CREDIT                              5603  \n",
       "DAYS_BIRTH                             17460  \n",
       "REGION_RATING_CLIENT                       3  \n",
       "WEEKDAY_APPR_PROCESS_START                 7  \n",
       "REG_REGION_NOT_LIVE_REGION                 2  \n",
       "TARGET                                     2  "
      ]
     },
     "execution_count": 13,
     "metadata": {},
     "output_type": "execute_result"
    }
   ],
   "source": [
    "info_data(df)"
   ]
  },
  {
   "cell_type": "code",
   "execution_count": 14,
   "id": "e490de5b",
   "metadata": {},
   "outputs": [
    {
     "name": "stdout",
     "output_type": "stream",
     "text": [
      "===== SK_ID_CURR =====\n",
      "[100002 100003 100004 ... 456253 456254 456255]\n",
      "\n",
      "===== NAME_CONTRACT_TYPE =====\n",
      "['Cash loans' 'Revolving loans']\n",
      "\n",
      "===== CODE_GENDER =====\n",
      "['M' 'F' 'XNA']\n",
      "\n",
      "===== FLAG_OWN_CAR =====\n",
      "['N' 'Y']\n",
      "\n",
      "===== FLAG_OWN_REALTY =====\n",
      "['Y' 'N']\n",
      "\n",
      "===== CNT_CHILDREN =====\n",
      "[ 0  1  2  3  4  7  5  6  8  9 11 12 10 19 14]\n",
      "\n",
      "===== AMT_INCOME_TOTAL =====\n",
      "[202500.  270000.   67500.  ...  96768.  546250.5 113062.5]\n",
      "\n",
      "===== AMT_CREDIT =====\n",
      "[ 406597.5 1293502.5  135000.  ...  181989.   743863.5 1391130. ]\n",
      "\n",
      "===== DAYS_BIRTH =====\n",
      "[ -9461 -16765 -19046 ...  -7951  -7857 -25061]\n",
      "\n",
      "===== CNT_FAM_MEMBERS =====\n",
      "[ 1.  2.  3.  4.  5.  6.  9.  7.  8. 10. 13. nan 14. 12. 20. 15. 16. 11.]\n",
      "\n",
      "===== REGION_RATING_CLIENT =====\n",
      "[2 1 3]\n",
      "\n",
      "===== WEEKDAY_APPR_PROCESS_START =====\n",
      "['WEDNESDAY' 'MONDAY' 'THURSDAY' 'SUNDAY' 'SATURDAY' 'FRIDAY' 'TUESDAY']\n",
      "\n",
      "===== REG_REGION_NOT_LIVE_REGION =====\n",
      "[0 1]\n",
      "\n",
      "===== TARGET =====\n",
      "[1 0]\n",
      "\n"
     ]
    }
   ],
   "source": [
    "# Cek unique values\n",
    "for x in df.columns : \n",
    "    print (f'===== {x} =====')\n",
    "    print (f'{df[x].unique()}')\n",
    "    print()"
   ]
  },
  {
   "cell_type": "markdown",
   "id": "30292014",
   "metadata": {},
   "source": [
    "Observasi:\n",
    "- Dataframe `df` terdiri dari 307511 baris dan 14 kolom \n",
    "- 1 baris, dengan Unique ID `SK_ID_CURR` merepresentasikan ID setiap transaksi peminjaman kredit client\n",
    "- Tidak terdapat duplicated rows\n",
    "- Terdapat missing values pada kolom `CNT_FAM_MEMBERS` (<5%  == Drop)\n",
    "- Pada Kolom `CODE_GENDER` terdapat unique values yang asing, yaitu 'XNA'\n",
    "- Values pada kolom `DAYS_BIRTH ` adalah umur dalam jumlah hari (bertanda negatif)  "
   ]
  },
  {
   "cell_type": "markdown",
   "id": "b0735510",
   "metadata": {},
   "source": [
    "### 4.2 Data Cleansing"
   ]
  },
  {
   "cell_type": "code",
   "execution_count": 15,
   "id": "98efa1b6",
   "metadata": {},
   "outputs": [],
   "source": [
    "# Hapus kolom 'SK_ID_CURR' (Hanya digunakan untuk cek duplicated rows) \n",
    "\n",
    "df.drop(['SK_ID_CURR'], axis = 'columns', inplace = True)"
   ]
  },
  {
   "cell_type": "code",
   "execution_count": 16,
   "id": "0d3c0f0c",
   "metadata": {},
   "outputs": [],
   "source": [
    "# Handling Missing Values pada kolom `CNT_FAM_MEMBERS`\n",
    "\n",
    "df = df[df['CNT_FAM_MEMBERS'].notna()].reset_index(drop=True)"
   ]
  },
  {
   "cell_type": "code",
   "execution_count": 17,
   "id": "5435f20a",
   "metadata": {},
   "outputs": [],
   "source": [
    "# Hapus nilai 'XNA' pada kolom `CODE_GENDER`\n",
    "\n",
    "df = df[~df['CODE_GENDER'].str.contains('XNA')]"
   ]
  },
  {
   "cell_type": "code",
   "execution_count": 18,
   "id": "ac9d70b9",
   "metadata": {},
   "outputs": [],
   "source": [
    "# Merubah nilai pada kolom `DAYS_BIRTH` kedalam tahu\n",
    "\n",
    "df['DAYS_BIRTH'] = df['DAYS_BIRTH'].abs()\n",
    "df['DAYS_BIRTH'] = (df['DAYS_BIRTH'].div(365).round(0))"
   ]
  },
  {
   "cell_type": "code",
   "execution_count": 19,
   "id": "36d3cdf4",
   "metadata": {},
   "outputs": [
    {
     "name": "stdout",
     "output_type": "stream",
     "text": [
      "Number of Rows,Columns (307505, 13)\n",
      "Number of Duplicated Values 3215\n"
     ]
    },
    {
     "data": {
      "text/html": [
       "<div>\n",
       "<style scoped>\n",
       "    .dataframe tbody tr th:only-of-type {\n",
       "        vertical-align: middle;\n",
       "    }\n",
       "\n",
       "    .dataframe tbody tr th {\n",
       "        vertical-align: top;\n",
       "    }\n",
       "\n",
       "    .dataframe thead th {\n",
       "        text-align: right;\n",
       "    }\n",
       "</style>\n",
       "<table border=\"1\" class=\"dataframe\">\n",
       "  <thead>\n",
       "    <tr style=\"text-align: right;\">\n",
       "      <th></th>\n",
       "      <th>Missing_value</th>\n",
       "      <th>Percent_missing_%</th>\n",
       "      <th>Data_type</th>\n",
       "      <th>Number of Unique</th>\n",
       "    </tr>\n",
       "  </thead>\n",
       "  <tbody>\n",
       "    <tr>\n",
       "      <th>NAME_CONTRACT_TYPE</th>\n",
       "      <td>0</td>\n",
       "      <td>0.0</td>\n",
       "      <td>object</td>\n",
       "      <td>2</td>\n",
       "    </tr>\n",
       "    <tr>\n",
       "      <th>CODE_GENDER</th>\n",
       "      <td>0</td>\n",
       "      <td>0.0</td>\n",
       "      <td>object</td>\n",
       "      <td>2</td>\n",
       "    </tr>\n",
       "    <tr>\n",
       "      <th>FLAG_OWN_CAR</th>\n",
       "      <td>0</td>\n",
       "      <td>0.0</td>\n",
       "      <td>object</td>\n",
       "      <td>2</td>\n",
       "    </tr>\n",
       "    <tr>\n",
       "      <th>FLAG_OWN_REALTY</th>\n",
       "      <td>0</td>\n",
       "      <td>0.0</td>\n",
       "      <td>object</td>\n",
       "      <td>2</td>\n",
       "    </tr>\n",
       "    <tr>\n",
       "      <th>CNT_CHILDREN</th>\n",
       "      <td>0</td>\n",
       "      <td>0.0</td>\n",
       "      <td>int64</td>\n",
       "      <td>15</td>\n",
       "    </tr>\n",
       "    <tr>\n",
       "      <th>AMT_INCOME_TOTAL</th>\n",
       "      <td>0</td>\n",
       "      <td>0.0</td>\n",
       "      <td>float64</td>\n",
       "      <td>2548</td>\n",
       "    </tr>\n",
       "    <tr>\n",
       "      <th>AMT_CREDIT</th>\n",
       "      <td>0</td>\n",
       "      <td>0.0</td>\n",
       "      <td>float64</td>\n",
       "      <td>5603</td>\n",
       "    </tr>\n",
       "    <tr>\n",
       "      <th>DAYS_BIRTH</th>\n",
       "      <td>0</td>\n",
       "      <td>0.0</td>\n",
       "      <td>float64</td>\n",
       "      <td>49</td>\n",
       "    </tr>\n",
       "    <tr>\n",
       "      <th>CNT_FAM_MEMBERS</th>\n",
       "      <td>0</td>\n",
       "      <td>0.0</td>\n",
       "      <td>float64</td>\n",
       "      <td>17</td>\n",
       "    </tr>\n",
       "    <tr>\n",
       "      <th>REGION_RATING_CLIENT</th>\n",
       "      <td>0</td>\n",
       "      <td>0.0</td>\n",
       "      <td>int64</td>\n",
       "      <td>3</td>\n",
       "    </tr>\n",
       "    <tr>\n",
       "      <th>WEEKDAY_APPR_PROCESS_START</th>\n",
       "      <td>0</td>\n",
       "      <td>0.0</td>\n",
       "      <td>object</td>\n",
       "      <td>7</td>\n",
       "    </tr>\n",
       "    <tr>\n",
       "      <th>REG_REGION_NOT_LIVE_REGION</th>\n",
       "      <td>0</td>\n",
       "      <td>0.0</td>\n",
       "      <td>int64</td>\n",
       "      <td>2</td>\n",
       "    </tr>\n",
       "    <tr>\n",
       "      <th>TARGET</th>\n",
       "      <td>0</td>\n",
       "      <td>0.0</td>\n",
       "      <td>int64</td>\n",
       "      <td>2</td>\n",
       "    </tr>\n",
       "  </tbody>\n",
       "</table>\n",
       "</div>"
      ],
      "text/plain": [
       "                            Missing_value  Percent_missing_% Data_type  \\\n",
       "NAME_CONTRACT_TYPE                      0                0.0    object   \n",
       "CODE_GENDER                             0                0.0    object   \n",
       "FLAG_OWN_CAR                            0                0.0    object   \n",
       "FLAG_OWN_REALTY                         0                0.0    object   \n",
       "CNT_CHILDREN                            0                0.0     int64   \n",
       "AMT_INCOME_TOTAL                        0                0.0   float64   \n",
       "AMT_CREDIT                              0                0.0   float64   \n",
       "DAYS_BIRTH                              0                0.0   float64   \n",
       "CNT_FAM_MEMBERS                         0                0.0   float64   \n",
       "REGION_RATING_CLIENT                    0                0.0     int64   \n",
       "WEEKDAY_APPR_PROCESS_START              0                0.0    object   \n",
       "REG_REGION_NOT_LIVE_REGION              0                0.0     int64   \n",
       "TARGET                                  0                0.0     int64   \n",
       "\n",
       "                            Number of Unique  \n",
       "NAME_CONTRACT_TYPE                         2  \n",
       "CODE_GENDER                                2  \n",
       "FLAG_OWN_CAR                               2  \n",
       "FLAG_OWN_REALTY                            2  \n",
       "CNT_CHILDREN                              15  \n",
       "AMT_INCOME_TOTAL                        2548  \n",
       "AMT_CREDIT                              5603  \n",
       "DAYS_BIRTH                                49  \n",
       "CNT_FAM_MEMBERS                           17  \n",
       "REGION_RATING_CLIENT                       3  \n",
       "WEEKDAY_APPR_PROCESS_START                 7  \n",
       "REG_REGION_NOT_LIVE_REGION                 2  \n",
       "TARGET                                     2  "
      ]
     },
     "execution_count": 19,
     "metadata": {},
     "output_type": "execute_result"
    }
   ],
   "source": [
    "info_data(df)"
   ]
  },
  {
   "cell_type": "markdown",
   "id": "1b78525f",
   "metadata": {},
   "source": [
    "# Exploratory Data Analysis"
   ]
  },
  {
   "cell_type": "markdown",
   "id": "2cf36652",
   "metadata": {},
   "source": [
    "## 5. Spliting Data Train dan Test"
   ]
  },
  {
   "cell_type": "code",
   "execution_count": 104,
   "id": "c06c53be",
   "metadata": {},
   "outputs": [],
   "source": [
    "# Cek perbandingan target\n",
    "x = df['TARGET'].value_counts(normalize=True)"
   ]
  },
  {
   "cell_type": "code",
   "execution_count": 113,
   "id": "f45c620b",
   "metadata": {},
   "outputs": [
    {
     "data": {
      "image/png": "[encoded data removed]",
      "text/plain": [
       "<Figure size 432x432 with 1 Axes>"
      ]
     },
     "metadata": {},
     "output_type": "display_data"
    }
   ],
   "source": [
    "plt.figure(figsize=(6,6))\n",
    "\n",
    "conversion_rate = x.index\n",
    "count = x.values\n",
    "colors= ['#ffd60a','#83c5be']\n",
    "\n",
    "plt.pie(count, labels=['no','yes'],\n",
    "        shadow=True,\n",
    "        colors=colors, \n",
    "        autopct='%1.1f%%',\n",
    "        startangle=45,\n",
    "        textprops={'fontsize': 14})\n",
    "\n",
    "plt.title('Persentase Pelanggan Berdasarkan Nilai TARGET',fontsize=16)\n",
    "plt.xlabel('Late Payment',fontsize=16)\n",
    "plt.axis('equal')\n",
    "plt.show()"
   ]
  },
  {
   "cell_type": "markdown",
   "id": "16f913f0",
   "metadata": {},
   "source": [
    "- 8.1% Pelanggan mengalami pembayaran / terlambat dalam pembayaran kredit\n",
    "- 91.9% Pelanggan tidak mengalami keterlambatan dalam pembayaran kredit"
   ]
  },
  {
   "cell_type": "code",
   "execution_count": 22,
   "id": "35381e00",
   "metadata": {},
   "outputs": [],
   "source": [
    "# Stratify --> inbalance data (target variabel)\n",
    "\n",
    "X = df.drop('TARGET',axis=1).copy()\n",
    "y = df['TARGET'].copy()\n",
    "\n",
    "X_train,X_test,y_train,y_test = train_test_split(X,y,stratify=y,test_size=0.25,random_state=42)"
   ]
  },
  {
   "cell_type": "code",
   "execution_count": 23,
   "id": "21d7c364",
   "metadata": {},
   "outputs": [],
   "source": [
    "# Insert 'TARGET' pada X_train dan X_test untuk memudahkan analisis\n",
    "X_train['TARGET'] = y_train\n",
    "X_test['TARGET'] = y_test"
   ]
  },
  {
   "cell_type": "code",
   "execution_count": 24,
   "id": "62ac35bb",
   "metadata": {},
   "outputs": [
    {
     "data": {
      "text/plain": [
       "0    91.9\n",
       "1     8.1\n",
       "Name: TARGET, dtype: float64"
      ]
     },
     "execution_count": 24,
     "metadata": {},
     "output_type": "execute_result"
    }
   ],
   "source": [
    "# Menghitung persentase data 'TARGET' pada X_train\n",
    "\n",
    "round(((X_train['TARGET'].value_counts(normalize=True))*100),1)"
   ]
  },
  {
   "cell_type": "code",
   "execution_count": 25,
   "id": "51cd7f01",
   "metadata": {},
   "outputs": [
    {
     "data": {
      "text/plain": [
       "0    91.9\n",
       "1     8.1\n",
       "Name: TARGET, dtype: float64"
      ]
     },
     "execution_count": 25,
     "metadata": {},
     "output_type": "execute_result"
    }
   ],
   "source": [
    "# Menghitung persentase data 'TARGET' pada X_test\n",
    "\n",
    "round(((X_test['TARGET'].value_counts(normalize=True))*100),1)"
   ]
  },
  {
   "cell_type": "markdown",
   "id": "93134b9a",
   "metadata": {},
   "source": [
    "**Baik data Train maupun data Test memiliki jumlah perbandingan target variabel (`TARGET`) yang sama yaitu 91.9 : 8.1**"
   ]
  },
  {
   "cell_type": "code",
   "execution_count": 26,
   "id": "fd6f1c9d",
   "metadata": {},
   "outputs": [
    {
     "name": "stdout",
     "output_type": "stream",
     "text": [
      "Number of Rows,Columns (230628, 13)\n",
      "Number of Duplicated Values 1802\n"
     ]
    },
    {
     "data": {
      "text/html": [
       "<div>\n",
       "<style scoped>\n",
       "    .dataframe tbody tr th:only-of-type {\n",
       "        vertical-align: middle;\n",
       "    }\n",
       "\n",
       "    .dataframe tbody tr th {\n",
       "        vertical-align: top;\n",
       "    }\n",
       "\n",
       "    .dataframe thead th {\n",
       "        text-align: right;\n",
       "    }\n",
       "</style>\n",
       "<table border=\"1\" class=\"dataframe\">\n",
       "  <thead>\n",
       "    <tr style=\"text-align: right;\">\n",
       "      <th></th>\n",
       "      <th>Missing_value</th>\n",
       "      <th>Percent_missing_%</th>\n",
       "      <th>Data_type</th>\n",
       "      <th>Number of Unique</th>\n",
       "    </tr>\n",
       "  </thead>\n",
       "  <tbody>\n",
       "    <tr>\n",
       "      <th>NAME_CONTRACT_TYPE</th>\n",
       "      <td>0</td>\n",
       "      <td>0.0</td>\n",
       "      <td>object</td>\n",
       "      <td>2</td>\n",
       "    </tr>\n",
       "    <tr>\n",
       "      <th>CODE_GENDER</th>\n",
       "      <td>0</td>\n",
       "      <td>0.0</td>\n",
       "      <td>object</td>\n",
       "      <td>2</td>\n",
       "    </tr>\n",
       "    <tr>\n",
       "      <th>FLAG_OWN_CAR</th>\n",
       "      <td>0</td>\n",
       "      <td>0.0</td>\n",
       "      <td>object</td>\n",
       "      <td>2</td>\n",
       "    </tr>\n",
       "    <tr>\n",
       "      <th>FLAG_OWN_REALTY</th>\n",
       "      <td>0</td>\n",
       "      <td>0.0</td>\n",
       "      <td>object</td>\n",
       "      <td>2</td>\n",
       "    </tr>\n",
       "    <tr>\n",
       "      <th>CNT_CHILDREN</th>\n",
       "      <td>0</td>\n",
       "      <td>0.0</td>\n",
       "      <td>int64</td>\n",
       "      <td>14</td>\n",
       "    </tr>\n",
       "    <tr>\n",
       "      <th>AMT_INCOME_TOTAL</th>\n",
       "      <td>0</td>\n",
       "      <td>0.0</td>\n",
       "      <td>float64</td>\n",
       "      <td>2060</td>\n",
       "    </tr>\n",
       "    <tr>\n",
       "      <th>AMT_CREDIT</th>\n",
       "      <td>0</td>\n",
       "      <td>0.0</td>\n",
       "      <td>float64</td>\n",
       "      <td>5170</td>\n",
       "    </tr>\n",
       "    <tr>\n",
       "      <th>DAYS_BIRTH</th>\n",
       "      <td>0</td>\n",
       "      <td>0.0</td>\n",
       "      <td>float64</td>\n",
       "      <td>49</td>\n",
       "    </tr>\n",
       "    <tr>\n",
       "      <th>CNT_FAM_MEMBERS</th>\n",
       "      <td>0</td>\n",
       "      <td>0.0</td>\n",
       "      <td>float64</td>\n",
       "      <td>14</td>\n",
       "    </tr>\n",
       "    <tr>\n",
       "      <th>REGION_RATING_CLIENT</th>\n",
       "      <td>0</td>\n",
       "      <td>0.0</td>\n",
       "      <td>int64</td>\n",
       "      <td>3</td>\n",
       "    </tr>\n",
       "    <tr>\n",
       "      <th>WEEKDAY_APPR_PROCESS_START</th>\n",
       "      <td>0</td>\n",
       "      <td>0.0</td>\n",
       "      <td>object</td>\n",
       "      <td>7</td>\n",
       "    </tr>\n",
       "    <tr>\n",
       "      <th>REG_REGION_NOT_LIVE_REGION</th>\n",
       "      <td>0</td>\n",
       "      <td>0.0</td>\n",
       "      <td>int64</td>\n",
       "      <td>2</td>\n",
       "    </tr>\n",
       "    <tr>\n",
       "      <th>TARGET</th>\n",
       "      <td>0</td>\n",
       "      <td>0.0</td>\n",
       "      <td>int64</td>\n",
       "      <td>2</td>\n",
       "    </tr>\n",
       "  </tbody>\n",
       "</table>\n",
       "</div>"
      ],
      "text/plain": [
       "                            Missing_value  Percent_missing_% Data_type  \\\n",
       "NAME_CONTRACT_TYPE                      0                0.0    object   \n",
       "CODE_GENDER                             0                0.0    object   \n",
       "FLAG_OWN_CAR                            0                0.0    object   \n",
       "FLAG_OWN_REALTY                         0                0.0    object   \n",
       "CNT_CHILDREN                            0                0.0     int64   \n",
       "AMT_INCOME_TOTAL                        0                0.0   float64   \n",
       "AMT_CREDIT                              0                0.0   float64   \n",
       "DAYS_BIRTH                              0                0.0   float64   \n",
       "CNT_FAM_MEMBERS                         0                0.0   float64   \n",
       "REGION_RATING_CLIENT                    0                0.0     int64   \n",
       "WEEKDAY_APPR_PROCESS_START              0                0.0    object   \n",
       "REG_REGION_NOT_LIVE_REGION              0                0.0     int64   \n",
       "TARGET                                  0                0.0     int64   \n",
       "\n",
       "                            Number of Unique  \n",
       "NAME_CONTRACT_TYPE                         2  \n",
       "CODE_GENDER                                2  \n",
       "FLAG_OWN_CAR                               2  \n",
       "FLAG_OWN_REALTY                            2  \n",
       "CNT_CHILDREN                              14  \n",
       "AMT_INCOME_TOTAL                        2060  \n",
       "AMT_CREDIT                              5170  \n",
       "DAYS_BIRTH                                49  \n",
       "CNT_FAM_MEMBERS                           14  \n",
       "REGION_RATING_CLIENT                       3  \n",
       "WEEKDAY_APPR_PROCESS_START                 7  \n",
       "REG_REGION_NOT_LIVE_REGION                 2  \n",
       "TARGET                                     2  "
      ]
     },
     "execution_count": 26,
     "metadata": {},
     "output_type": "execute_result"
    }
   ],
   "source": [
    "info_data(X_train)"
   ]
  },
  {
   "cell_type": "markdown",
   "id": "e7903a76",
   "metadata": {},
   "source": [
    "## 6. Descriptive Statistic"
   ]
  },
  {
   "cell_type": "code",
   "execution_count": 27,
   "id": "d3a6104d",
   "metadata": {},
   "outputs": [],
   "source": [
    "# Mengkategorikan kolom berdasarkan tipe datanya\n",
    "categoricals = ['NAME_CONTRACT_TYPE','CODE_GENDER','FLAG_OWN_CAR','FLAG_OWN_REALTY','WEEKDAY_APPR_PROCESS_START']\n",
    "numericals = ['CNT_CHILDREN','AMT_INCOME_TOTAL','AMT_CREDIT','DAYS_BIRTH', 'CNT_FAM_MEMBERS','REGION_RATING_CLIENT','REG_REGION_NOT_LIVE_REGION','TARGET']"
   ]
  },
  {
   "cell_type": "code",
   "execution_count": 28,
   "id": "6f2b8837",
   "metadata": {},
   "outputs": [
    {
     "data": {
      "text/html": [
       "<div>\n",
       "<style scoped>\n",
       "    .dataframe tbody tr th:only-of-type {\n",
       "        vertical-align: middle;\n",
       "    }\n",
       "\n",
       "    .dataframe tbody tr th {\n",
       "        vertical-align: top;\n",
       "    }\n",
       "\n",
       "    .dataframe thead th {\n",
       "        text-align: right;\n",
       "    }\n",
       "</style>\n",
       "<table border=\"1\" class=\"dataframe\">\n",
       "  <thead>\n",
       "    <tr style=\"text-align: right;\">\n",
       "      <th></th>\n",
       "      <th>count</th>\n",
       "      <th>mean</th>\n",
       "      <th>std</th>\n",
       "      <th>min</th>\n",
       "      <th>25%</th>\n",
       "      <th>50%</th>\n",
       "      <th>75%</th>\n",
       "      <th>max</th>\n",
       "    </tr>\n",
       "  </thead>\n",
       "  <tbody>\n",
       "    <tr>\n",
       "      <th>CNT_CHILDREN</th>\n",
       "      <td>307505.0</td>\n",
       "      <td>0.417050</td>\n",
       "      <td>0.722120</td>\n",
       "      <td>0.0</td>\n",
       "      <td>0.0</td>\n",
       "      <td>0.0</td>\n",
       "      <td>1.0</td>\n",
       "      <td>19.0</td>\n",
       "    </tr>\n",
       "    <tr>\n",
       "      <th>AMT_INCOME_TOTAL</th>\n",
       "      <td>307505.0</td>\n",
       "      <td>168796.661716</td>\n",
       "      <td>237124.848430</td>\n",
       "      <td>25650.0</td>\n",
       "      <td>112500.0</td>\n",
       "      <td>147150.0</td>\n",
       "      <td>202500.0</td>\n",
       "      <td>117000000.0</td>\n",
       "    </tr>\n",
       "    <tr>\n",
       "      <th>AMT_CREDIT</th>\n",
       "      <td>307505.0</td>\n",
       "      <td>599028.395296</td>\n",
       "      <td>402493.886647</td>\n",
       "      <td>45000.0</td>\n",
       "      <td>270000.0</td>\n",
       "      <td>513531.0</td>\n",
       "      <td>808650.0</td>\n",
       "      <td>4050000.0</td>\n",
       "    </tr>\n",
       "    <tr>\n",
       "      <th>DAYS_BIRTH</th>\n",
       "      <td>307505.0</td>\n",
       "      <td>43.938798</td>\n",
       "      <td>11.964044</td>\n",
       "      <td>21.0</td>\n",
       "      <td>34.0</td>\n",
       "      <td>43.0</td>\n",
       "      <td>54.0</td>\n",
       "      <td>69.0</td>\n",
       "    </tr>\n",
       "    <tr>\n",
       "      <th>CNT_FAM_MEMBERS</th>\n",
       "      <td>307505.0</td>\n",
       "      <td>2.152658</td>\n",
       "      <td>0.910680</td>\n",
       "      <td>1.0</td>\n",
       "      <td>2.0</td>\n",
       "      <td>2.0</td>\n",
       "      <td>3.0</td>\n",
       "      <td>20.0</td>\n",
       "    </tr>\n",
       "    <tr>\n",
       "      <th>REGION_RATING_CLIENT</th>\n",
       "      <td>307505.0</td>\n",
       "      <td>2.052461</td>\n",
       "      <td>0.509036</td>\n",
       "      <td>1.0</td>\n",
       "      <td>2.0</td>\n",
       "      <td>2.0</td>\n",
       "      <td>2.0</td>\n",
       "      <td>3.0</td>\n",
       "    </tr>\n",
       "    <tr>\n",
       "      <th>REG_REGION_NOT_LIVE_REGION</th>\n",
       "      <td>307505.0</td>\n",
       "      <td>0.015144</td>\n",
       "      <td>0.122128</td>\n",
       "      <td>0.0</td>\n",
       "      <td>0.0</td>\n",
       "      <td>0.0</td>\n",
       "      <td>0.0</td>\n",
       "      <td>1.0</td>\n",
       "    </tr>\n",
       "    <tr>\n",
       "      <th>TARGET</th>\n",
       "      <td>307505.0</td>\n",
       "      <td>0.080730</td>\n",
       "      <td>0.272421</td>\n",
       "      <td>0.0</td>\n",
       "      <td>0.0</td>\n",
       "      <td>0.0</td>\n",
       "      <td>0.0</td>\n",
       "      <td>1.0</td>\n",
       "    </tr>\n",
       "  </tbody>\n",
       "</table>\n",
       "</div>"
      ],
      "text/plain": [
       "                               count           mean            std      min  \\\n",
       "CNT_CHILDREN                307505.0       0.417050       0.722120      0.0   \n",
       "AMT_INCOME_TOTAL            307505.0  168796.661716  237124.848430  25650.0   \n",
       "AMT_CREDIT                  307505.0  599028.395296  402493.886647  45000.0   \n",
       "DAYS_BIRTH                  307505.0      43.938798      11.964044     21.0   \n",
       "CNT_FAM_MEMBERS             307505.0       2.152658       0.910680      1.0   \n",
       "REGION_RATING_CLIENT        307505.0       2.052461       0.509036      1.0   \n",
       "REG_REGION_NOT_LIVE_REGION  307505.0       0.015144       0.122128      0.0   \n",
       "TARGET                      307505.0       0.080730       0.272421      0.0   \n",
       "\n",
       "                                 25%       50%       75%          max  \n",
       "CNT_CHILDREN                     0.0       0.0       1.0         19.0  \n",
       "AMT_INCOME_TOTAL            112500.0  147150.0  202500.0  117000000.0  \n",
       "AMT_CREDIT                  270000.0  513531.0  808650.0    4050000.0  \n",
       "DAYS_BIRTH                      34.0      43.0      54.0         69.0  \n",
       "CNT_FAM_MEMBERS                  2.0       2.0       3.0         20.0  \n",
       "REGION_RATING_CLIENT             2.0       2.0       2.0          3.0  \n",
       "REG_REGION_NOT_LIVE_REGION       0.0       0.0       0.0          1.0  \n",
       "TARGET                           0.0       0.0       0.0          1.0  "
      ]
     },
     "execution_count": 28,
     "metadata": {},
     "output_type": "execute_result"
    }
   ],
   "source": [
    "# Numericals Statistical Summary\n",
    "df[numericals].describe().T"
   ]
  },
  {
   "cell_type": "markdown",
   "id": "bf207cba",
   "metadata": {},
   "source": [
    "Obeservasi:\n",
    "- Nilai min dan max semua kolom normal / tidak ada anomali\n",
    "- Kolom `REGION_RATING_CLIENT`,`REG_REGION_NOT_LIVE_REGION`, dan `TARGET` merupakan kolom dengan tipe data boolean. Maka tidak perlu melakukan cek kesimetrisan kedua kolom tersebut.\n",
    "- Kolom `CNT_CHILDREN`,`DAYS_BIRTH`,`CNT_FAM_MEMBERS`,`AMT_INCOME_TOTAL`, dan `AMT_CREDIT` merupakan kolom dengan tipe data nominal\n",
    "- Kolom `CNT_CHILDREN`,`DAYS_BIRTH`, dan `CNT_FAM_MEMBERS` memiliki distribusi yang cenderung simetris karna perbedaan nilai mean dan median kurang dari 15%\n",
    "- Kolom `AMT_INCOME_TOTAL` dan `AMT_CREDIT` tidak perlu dilakukan cek kesimetrisan kedua kolom tersebut, karena unique values terlalu banyak"
   ]
  },
  {
   "cell_type": "code",
   "execution_count": 29,
   "id": "6f51771b",
   "metadata": {},
   "outputs": [
    {
     "data": {
      "text/html": [
       "<div>\n",
       "<style scoped>\n",
       "    .dataframe tbody tr th:only-of-type {\n",
       "        vertical-align: middle;\n",
       "    }\n",
       "\n",
       "    .dataframe tbody tr th {\n",
       "        vertical-align: top;\n",
       "    }\n",
       "\n",
       "    .dataframe thead th {\n",
       "        text-align: right;\n",
       "    }\n",
       "</style>\n",
       "<table border=\"1\" class=\"dataframe\">\n",
       "  <thead>\n",
       "    <tr style=\"text-align: right;\">\n",
       "      <th></th>\n",
       "      <th>NAME_CONTRACT_TYPE</th>\n",
       "      <th>CODE_GENDER</th>\n",
       "      <th>FLAG_OWN_CAR</th>\n",
       "      <th>FLAG_OWN_REALTY</th>\n",
       "      <th>WEEKDAY_APPR_PROCESS_START</th>\n",
       "    </tr>\n",
       "  </thead>\n",
       "  <tbody>\n",
       "    <tr>\n",
       "      <th>count</th>\n",
       "      <td>307505</td>\n",
       "      <td>307505</td>\n",
       "      <td>307505</td>\n",
       "      <td>307505</td>\n",
       "      <td>307505</td>\n",
       "    </tr>\n",
       "    <tr>\n",
       "      <th>unique</th>\n",
       "      <td>2</td>\n",
       "      <td>2</td>\n",
       "      <td>2</td>\n",
       "      <td>2</td>\n",
       "      <td>7</td>\n",
       "    </tr>\n",
       "    <tr>\n",
       "      <th>top</th>\n",
       "      <td>Cash loans</td>\n",
       "      <td>F</td>\n",
       "      <td>N</td>\n",
       "      <td>Y</td>\n",
       "      <td>TUESDAY</td>\n",
       "    </tr>\n",
       "    <tr>\n",
       "      <th>freq</th>\n",
       "      <td>278232</td>\n",
       "      <td>202447</td>\n",
       "      <td>202920</td>\n",
       "      <td>213306</td>\n",
       "      <td>53900</td>\n",
       "    </tr>\n",
       "  </tbody>\n",
       "</table>\n",
       "</div>"
      ],
      "text/plain": [
       "       NAME_CONTRACT_TYPE CODE_GENDER FLAG_OWN_CAR FLAG_OWN_REALTY  \\\n",
       "count              307505      307505       307505          307505   \n",
       "unique                  2           2            2               2   \n",
       "top            Cash loans           F            N               Y   \n",
       "freq               278232      202447       202920          213306   \n",
       "\n",
       "       WEEKDAY_APPR_PROCESS_START  \n",
       "count                      307505  \n",
       "unique                          7  \n",
       "top                       TUESDAY  \n",
       "freq                        53900  "
      ]
     },
     "execution_count": 29,
     "metadata": {},
     "output_type": "execute_result"
    }
   ],
   "source": [
    "# categorical Describe Method\n",
    "df[categoricals].describe()"
   ]
  },
  {
   "cell_type": "markdown",
   "id": "fd4162f6",
   "metadata": {},
   "source": [
    "Observasi:\n",
    "- Rata-rata feature cetagorical memiliki nilai unique value 2\n",
    "- Pelanggan lebih menyukai tipe kontrak Pinjaman Tunai (Cash) dari pada Pinjaman Berjangka (Revolving)\n",
    "- Mayoritas pelanggan berjenis kelamin Perempuan\n",
    "- Mayoritas pelanggan tidak mempunyai mobil namun memiliki rumah / apartemen\n",
    "- Hari Selasa merupakan hari dengan pengajuan pinjaman terbanyak   "
   ]
  },
  {
   "cell_type": "markdown",
   "id": "bd858485",
   "metadata": {},
   "source": [
    "## 7. Transformation Feature Training \n",
    "Untuk mempermudah analisis, maka kita akan melakukan transformasi data pada beberapa feature predictor. Kolom yang ingin ditransformasikan antara lain:\n",
    "\n",
    "1. `FLAG_OWN_CAR` - Jika 'no' maka 0, jika 'yes' maka 1\n",
    "2. `FLAG_OWN_REALTY` - Jika 'no' maka 0, jika 'yes' maka 1\n",
    "3. `WEEKDAY_APPR_PROCESS_START` - Jadikan angka 1 sampai 7 (dari Minggu s/d Sabtu)."
   ]
  },
  {
   "cell_type": "code",
   "execution_count": 30,
   "id": "0bbbe8ef",
   "metadata": {},
   "outputs": [],
   "source": [
    "### Encoding yes or no\n",
    "yes_no_dict = {\n",
    "    'Y':1,\n",
    "    'N':0 }\n",
    "\n",
    "for colname in ['FLAG_OWN_CAR', 'FLAG_OWN_REALTY']:\n",
    "    X_train[colname] = X_train[colname].map(yes_no_dict)"
   ]
  },
  {
   "cell_type": "code",
   "execution_count": 31,
   "id": "16bc4974",
   "metadata": {},
   "outputs": [],
   "source": [
    "### Create Dictionary\n",
    "weekday_dict = {\n",
    "    'SUNDAY':1,\n",
    "    'MONDAY':2,\n",
    "    'TUESDAY':3,\n",
    "    'WEDNESDAY':4,\n",
    "    'THURSDAY':5,\n",
    "    'FRIDAY':6,\n",
    "    'SATURDAY':7}\n",
    "X_train['WEEKDAY_APPR_PROCESS_START'] = X_train['WEEKDAY_APPR_PROCESS_START'].map(weekday_dict)"
   ]
  },
  {
   "cell_type": "code",
   "execution_count": 32,
   "id": "d682836b",
   "metadata": {},
   "outputs": [
    {
     "data": {
      "text/html": [
       "<div>\n",
       "<style scoped>\n",
       "    .dataframe tbody tr th:only-of-type {\n",
       "        vertical-align: middle;\n",
       "    }\n",
       "\n",
       "    .dataframe tbody tr th {\n",
       "        vertical-align: top;\n",
       "    }\n",
       "\n",
       "    .dataframe thead th {\n",
       "        text-align: right;\n",
       "    }\n",
       "</style>\n",
       "<table border=\"1\" class=\"dataframe\">\n",
       "  <thead>\n",
       "    <tr style=\"text-align: right;\">\n",
       "      <th></th>\n",
       "      <th>NAME_CONTRACT_TYPE</th>\n",
       "      <th>CODE_GENDER</th>\n",
       "      <th>FLAG_OWN_CAR</th>\n",
       "      <th>FLAG_OWN_REALTY</th>\n",
       "      <th>CNT_CHILDREN</th>\n",
       "      <th>AMT_INCOME_TOTAL</th>\n",
       "      <th>AMT_CREDIT</th>\n",
       "      <th>DAYS_BIRTH</th>\n",
       "      <th>CNT_FAM_MEMBERS</th>\n",
       "      <th>REGION_RATING_CLIENT</th>\n",
       "      <th>WEEKDAY_APPR_PROCESS_START</th>\n",
       "      <th>REG_REGION_NOT_LIVE_REGION</th>\n",
       "      <th>TARGET</th>\n",
       "    </tr>\n",
       "  </thead>\n",
       "  <tbody>\n",
       "    <tr>\n",
       "      <th>115415</th>\n",
       "      <td>Cash loans</td>\n",
       "      <td>F</td>\n",
       "      <td>0</td>\n",
       "      <td>1</td>\n",
       "      <td>0</td>\n",
       "      <td>90000.0</td>\n",
       "      <td>161730.0</td>\n",
       "      <td>54.0</td>\n",
       "      <td>2.0</td>\n",
       "      <td>2</td>\n",
       "      <td>6</td>\n",
       "      <td>0</td>\n",
       "      <td>0</td>\n",
       "    </tr>\n",
       "    <tr>\n",
       "      <th>260031</th>\n",
       "      <td>Cash loans</td>\n",
       "      <td>F</td>\n",
       "      <td>0</td>\n",
       "      <td>1</td>\n",
       "      <td>1</td>\n",
       "      <td>112500.0</td>\n",
       "      <td>521280.0</td>\n",
       "      <td>28.0</td>\n",
       "      <td>3.0</td>\n",
       "      <td>3</td>\n",
       "      <td>6</td>\n",
       "      <td>0</td>\n",
       "      <td>1</td>\n",
       "    </tr>\n",
       "    <tr>\n",
       "      <th>128753</th>\n",
       "      <td>Revolving loans</td>\n",
       "      <td>F</td>\n",
       "      <td>1</td>\n",
       "      <td>1</td>\n",
       "      <td>1</td>\n",
       "      <td>103500.0</td>\n",
       "      <td>315000.0</td>\n",
       "      <td>31.0</td>\n",
       "      <td>3.0</td>\n",
       "      <td>2</td>\n",
       "      <td>3</td>\n",
       "      <td>0</td>\n",
       "      <td>0</td>\n",
       "    </tr>\n",
       "    <tr>\n",
       "      <th>12997</th>\n",
       "      <td>Cash loans</td>\n",
       "      <td>F</td>\n",
       "      <td>0</td>\n",
       "      <td>0</td>\n",
       "      <td>0</td>\n",
       "      <td>135000.0</td>\n",
       "      <td>536917.5</td>\n",
       "      <td>62.0</td>\n",
       "      <td>2.0</td>\n",
       "      <td>2</td>\n",
       "      <td>2</td>\n",
       "      <td>0</td>\n",
       "      <td>0</td>\n",
       "    </tr>\n",
       "    <tr>\n",
       "      <th>166440</th>\n",
       "      <td>Cash loans</td>\n",
       "      <td>F</td>\n",
       "      <td>0</td>\n",
       "      <td>1</td>\n",
       "      <td>0</td>\n",
       "      <td>81000.0</td>\n",
       "      <td>350860.5</td>\n",
       "      <td>65.0</td>\n",
       "      <td>1.0</td>\n",
       "      <td>2</td>\n",
       "      <td>6</td>\n",
       "      <td>0</td>\n",
       "      <td>0</td>\n",
       "    </tr>\n",
       "  </tbody>\n",
       "</table>\n",
       "</div>"
      ],
      "text/plain": [
       "       NAME_CONTRACT_TYPE CODE_GENDER  FLAG_OWN_CAR  FLAG_OWN_REALTY  \\\n",
       "115415         Cash loans           F             0                1   \n",
       "260031         Cash loans           F             0                1   \n",
       "128753    Revolving loans           F             1                1   \n",
       "12997          Cash loans           F             0                0   \n",
       "166440         Cash loans           F             0                1   \n",
       "\n",
       "        CNT_CHILDREN  AMT_INCOME_TOTAL  AMT_CREDIT  DAYS_BIRTH  \\\n",
       "115415             0           90000.0    161730.0        54.0   \n",
       "260031             1          112500.0    521280.0        28.0   \n",
       "128753             1          103500.0    315000.0        31.0   \n",
       "12997              0          135000.0    536917.5        62.0   \n",
       "166440             0           81000.0    350860.5        65.0   \n",
       "\n",
       "        CNT_FAM_MEMBERS  REGION_RATING_CLIENT  WEEKDAY_APPR_PROCESS_START  \\\n",
       "115415              2.0                     2                           6   \n",
       "260031              3.0                     3                           6   \n",
       "128753              3.0                     2                           3   \n",
       "12997               2.0                     2                           2   \n",
       "166440              1.0                     2                           6   \n",
       "\n",
       "        REG_REGION_NOT_LIVE_REGION  TARGET  \n",
       "115415                           0       0  \n",
       "260031                           0       1  \n",
       "128753                           0       0  \n",
       "12997                            0       0  \n",
       "166440                           0       0  "
      ]
     },
     "execution_count": 32,
     "metadata": {},
     "output_type": "execute_result"
    }
   ],
   "source": [
    "X_train.head()"
   ]
  },
  {
   "cell_type": "code",
   "execution_count": 33,
   "id": "de43af93",
   "metadata": {},
   "outputs": [
    {
     "name": "stdout",
     "output_type": "stream",
     "text": [
      "Number of Rows,Columns (230628, 13)\n",
      "Number of Duplicated Values 1802\n"
     ]
    },
    {
     "data": {
      "text/html": [
       "<div>\n",
       "<style scoped>\n",
       "    .dataframe tbody tr th:only-of-type {\n",
       "        vertical-align: middle;\n",
       "    }\n",
       "\n",
       "    .dataframe tbody tr th {\n",
       "        vertical-align: top;\n",
       "    }\n",
       "\n",
       "    .dataframe thead th {\n",
       "        text-align: right;\n",
       "    }\n",
       "</style>\n",
       "<table border=\"1\" class=\"dataframe\">\n",
       "  <thead>\n",
       "    <tr style=\"text-align: right;\">\n",
       "      <th></th>\n",
       "      <th>Missing_value</th>\n",
       "      <th>Percent_missing_%</th>\n",
       "      <th>Data_type</th>\n",
       "      <th>Number of Unique</th>\n",
       "    </tr>\n",
       "  </thead>\n",
       "  <tbody>\n",
       "    <tr>\n",
       "      <th>NAME_CONTRACT_TYPE</th>\n",
       "      <td>0</td>\n",
       "      <td>0.0</td>\n",
       "      <td>object</td>\n",
       "      <td>2</td>\n",
       "    </tr>\n",
       "    <tr>\n",
       "      <th>CODE_GENDER</th>\n",
       "      <td>0</td>\n",
       "      <td>0.0</td>\n",
       "      <td>object</td>\n",
       "      <td>2</td>\n",
       "    </tr>\n",
       "    <tr>\n",
       "      <th>FLAG_OWN_CAR</th>\n",
       "      <td>0</td>\n",
       "      <td>0.0</td>\n",
       "      <td>int64</td>\n",
       "      <td>2</td>\n",
       "    </tr>\n",
       "    <tr>\n",
       "      <th>FLAG_OWN_REALTY</th>\n",
       "      <td>0</td>\n",
       "      <td>0.0</td>\n",
       "      <td>int64</td>\n",
       "      <td>2</td>\n",
       "    </tr>\n",
       "    <tr>\n",
       "      <th>CNT_CHILDREN</th>\n",
       "      <td>0</td>\n",
       "      <td>0.0</td>\n",
       "      <td>int64</td>\n",
       "      <td>14</td>\n",
       "    </tr>\n",
       "    <tr>\n",
       "      <th>AMT_INCOME_TOTAL</th>\n",
       "      <td>0</td>\n",
       "      <td>0.0</td>\n",
       "      <td>float64</td>\n",
       "      <td>2060</td>\n",
       "    </tr>\n",
       "    <tr>\n",
       "      <th>AMT_CREDIT</th>\n",
       "      <td>0</td>\n",
       "      <td>0.0</td>\n",
       "      <td>float64</td>\n",
       "      <td>5170</td>\n",
       "    </tr>\n",
       "    <tr>\n",
       "      <th>DAYS_BIRTH</th>\n",
       "      <td>0</td>\n",
       "      <td>0.0</td>\n",
       "      <td>float64</td>\n",
       "      <td>49</td>\n",
       "    </tr>\n",
       "    <tr>\n",
       "      <th>CNT_FAM_MEMBERS</th>\n",
       "      <td>0</td>\n",
       "      <td>0.0</td>\n",
       "      <td>float64</td>\n",
       "      <td>14</td>\n",
       "    </tr>\n",
       "    <tr>\n",
       "      <th>REGION_RATING_CLIENT</th>\n",
       "      <td>0</td>\n",
       "      <td>0.0</td>\n",
       "      <td>int64</td>\n",
       "      <td>3</td>\n",
       "    </tr>\n",
       "    <tr>\n",
       "      <th>WEEKDAY_APPR_PROCESS_START</th>\n",
       "      <td>0</td>\n",
       "      <td>0.0</td>\n",
       "      <td>int64</td>\n",
       "      <td>7</td>\n",
       "    </tr>\n",
       "    <tr>\n",
       "      <th>REG_REGION_NOT_LIVE_REGION</th>\n",
       "      <td>0</td>\n",
       "      <td>0.0</td>\n",
       "      <td>int64</td>\n",
       "      <td>2</td>\n",
       "    </tr>\n",
       "    <tr>\n",
       "      <th>TARGET</th>\n",
       "      <td>0</td>\n",
       "      <td>0.0</td>\n",
       "      <td>int64</td>\n",
       "      <td>2</td>\n",
       "    </tr>\n",
       "  </tbody>\n",
       "</table>\n",
       "</div>"
      ],
      "text/plain": [
       "                            Missing_value  Percent_missing_% Data_type  \\\n",
       "NAME_CONTRACT_TYPE                      0                0.0    object   \n",
       "CODE_GENDER                             0                0.0    object   \n",
       "FLAG_OWN_CAR                            0                0.0     int64   \n",
       "FLAG_OWN_REALTY                         0                0.0     int64   \n",
       "CNT_CHILDREN                            0                0.0     int64   \n",
       "AMT_INCOME_TOTAL                        0                0.0   float64   \n",
       "AMT_CREDIT                              0                0.0   float64   \n",
       "DAYS_BIRTH                              0                0.0   float64   \n",
       "CNT_FAM_MEMBERS                         0                0.0   float64   \n",
       "REGION_RATING_CLIENT                    0                0.0     int64   \n",
       "WEEKDAY_APPR_PROCESS_START              0                0.0     int64   \n",
       "REG_REGION_NOT_LIVE_REGION              0                0.0     int64   \n",
       "TARGET                                  0                0.0     int64   \n",
       "\n",
       "                            Number of Unique  \n",
       "NAME_CONTRACT_TYPE                         2  \n",
       "CODE_GENDER                                2  \n",
       "FLAG_OWN_CAR                               2  \n",
       "FLAG_OWN_REALTY                            2  \n",
       "CNT_CHILDREN                              14  \n",
       "AMT_INCOME_TOTAL                        2060  \n",
       "AMT_CREDIT                              5170  \n",
       "DAYS_BIRTH                                49  \n",
       "CNT_FAM_MEMBERS                           14  \n",
       "REGION_RATING_CLIENT                       3  \n",
       "WEEKDAY_APPR_PROCESS_START                 7  \n",
       "REG_REGION_NOT_LIVE_REGION                 2  \n",
       "TARGET                                     2  "
      ]
     },
     "execution_count": 33,
     "metadata": {},
     "output_type": "execute_result"
    }
   ],
   "source": [
    "info_data(X_train)"
   ]
  },
  {
   "cell_type": "markdown",
   "id": "259e713e",
   "metadata": {},
   "source": [
    "## 8. Univariate Analysis\n",
    "### 8.1 Check Outliers\n",
    "Mendeteksi adanya outliers menggunakan Boxplot"
   ]
  },
  {
   "cell_type": "code",
   "execution_count": 34,
   "id": "5270f64c",
   "metadata": {},
   "outputs": [],
   "source": [
    "# Mengkategorikan ulang kolom setelah dilakukan transformasi\n",
    "# Kolom numericals dengan data boolean tidak perlu dilakukan Univariate Analysis\n",
    "numericals_trans = ['CNT_CHILDREN','AMT_INCOME_TOTAL','AMT_CREDIT','DAYS_BIRTH', 'CNT_FAM_MEMBERS']"
   ]
  },
  {
   "cell_type": "code",
   "execution_count": 35,
   "id": "107bab5a",
   "metadata": {},
   "outputs": [
    {
     "data": {
      "image/png": "[encoded data removed]",
      "text/plain": [
       "<Figure size 576x360 with 5 Axes>"
      ]
     },
     "metadata": {},
     "output_type": "display_data"
    }
   ],
   "source": [
    "plt.figure(figsize=(8,5))\n",
    "features = numericals_trans\n",
    "for i in range(0, len(features)):\n",
    "    plt.subplot(1, len(features), i+1)\n",
    "    sns.boxplot(y=X_train[features[i]], color='red')\n",
    "    plt.tight_layout()"
   ]
  },
  {
   "cell_type": "code",
   "execution_count": 36,
   "id": "4999e2e4",
   "metadata": {},
   "outputs": [],
   "source": [
    "X_train_outliers = X_train.copy()"
   ]
  },
  {
   "cell_type": "code",
   "execution_count": 37,
   "id": "fde3dc91",
   "metadata": {},
   "outputs": [
    {
     "name": "stdout",
     "output_type": "stream",
     "text": [
      " outlier lower limit : -1.5 \n",
      " outlier upper limit : 2.5\n"
     ]
    },
    {
     "data": {
      "text/html": [
       "<div>\n",
       "<style scoped>\n",
       "    .dataframe tbody tr th:only-of-type {\n",
       "        vertical-align: middle;\n",
       "    }\n",
       "\n",
       "    .dataframe tbody tr th {\n",
       "        vertical-align: top;\n",
       "    }\n",
       "\n",
       "    .dataframe thead th {\n",
       "        text-align: right;\n",
       "    }\n",
       "</style>\n",
       "<table border=\"1\" class=\"dataframe\">\n",
       "  <thead>\n",
       "    <tr style=\"text-align: right;\">\n",
       "      <th></th>\n",
       "      <th>NAME_CONTRACT_TYPE</th>\n",
       "      <th>CODE_GENDER</th>\n",
       "      <th>FLAG_OWN_CAR</th>\n",
       "      <th>FLAG_OWN_REALTY</th>\n",
       "      <th>CNT_CHILDREN</th>\n",
       "      <th>AMT_INCOME_TOTAL</th>\n",
       "      <th>AMT_CREDIT</th>\n",
       "      <th>DAYS_BIRTH</th>\n",
       "      <th>CNT_FAM_MEMBERS</th>\n",
       "      <th>REGION_RATING_CLIENT</th>\n",
       "      <th>WEEKDAY_APPR_PROCESS_START</th>\n",
       "      <th>REG_REGION_NOT_LIVE_REGION</th>\n",
       "      <th>TARGET</th>\n",
       "    </tr>\n",
       "  </thead>\n",
       "  <tbody>\n",
       "    <tr>\n",
       "      <th>265782</th>\n",
       "      <td>Cash loans</td>\n",
       "      <td>F</td>\n",
       "      <td>0</td>\n",
       "      <td>1</td>\n",
       "      <td>19</td>\n",
       "      <td>112500.0</td>\n",
       "      <td>135000.0</td>\n",
       "      <td>28.0</td>\n",
       "      <td>20.0</td>\n",
       "      <td>2</td>\n",
       "      <td>5</td>\n",
       "      <td>0</td>\n",
       "      <td>0</td>\n",
       "    </tr>\n",
       "    <tr>\n",
       "      <th>155368</th>\n",
       "      <td>Cash loans</td>\n",
       "      <td>F</td>\n",
       "      <td>0</td>\n",
       "      <td>1</td>\n",
       "      <td>19</td>\n",
       "      <td>112500.0</td>\n",
       "      <td>269550.0</td>\n",
       "      <td>30.0</td>\n",
       "      <td>20.0</td>\n",
       "      <td>2</td>\n",
       "      <td>1</td>\n",
       "      <td>0</td>\n",
       "      <td>0</td>\n",
       "    </tr>\n",
       "  </tbody>\n",
       "</table>\n",
       "</div>"
      ],
      "text/plain": [
       "       NAME_CONTRACT_TYPE CODE_GENDER  FLAG_OWN_CAR  FLAG_OWN_REALTY  \\\n",
       "265782         Cash loans           F             0                1   \n",
       "155368         Cash loans           F             0                1   \n",
       "\n",
       "        CNT_CHILDREN  AMT_INCOME_TOTAL  AMT_CREDIT  DAYS_BIRTH  \\\n",
       "265782            19          112500.0    135000.0        28.0   \n",
       "155368            19          112500.0    269550.0        30.0   \n",
       "\n",
       "        CNT_FAM_MEMBERS  REGION_RATING_CLIENT  WEEKDAY_APPR_PROCESS_START  \\\n",
       "265782             20.0                     2                           5   \n",
       "155368             20.0                     2                           1   \n",
       "\n",
       "        REG_REGION_NOT_LIVE_REGION  TARGET  \n",
       "265782                           0       0  \n",
       "155368                           0       0  "
      ]
     },
     "execution_count": 37,
     "metadata": {},
     "output_type": "execute_result"
    }
   ],
   "source": [
    "outlier(X_train_outliers,'CNT_CHILDREN')\n",
    "\n",
    "outlier_max = X_train_outliers['CNT_CHILDREN'].max()\n",
    "X_train_outliers[X_train_outliers['CNT_CHILDREN'] == outlier_max]"
   ]
  },
  {
   "cell_type": "code",
   "execution_count": 38,
   "id": "bf181647",
   "metadata": {},
   "outputs": [
    {
     "name": "stdout",
     "output_type": "stream",
     "text": [
      " outlier lower limit : -22500.0 \n",
      " outlier upper limit : 337500.0\n"
     ]
    },
    {
     "data": {
      "text/html": [
       "<div>\n",
       "<style scoped>\n",
       "    .dataframe tbody tr th:only-of-type {\n",
       "        vertical-align: middle;\n",
       "    }\n",
       "\n",
       "    .dataframe tbody tr th {\n",
       "        vertical-align: top;\n",
       "    }\n",
       "\n",
       "    .dataframe thead th {\n",
       "        text-align: right;\n",
       "    }\n",
       "</style>\n",
       "<table border=\"1\" class=\"dataframe\">\n",
       "  <thead>\n",
       "    <tr style=\"text-align: right;\">\n",
       "      <th></th>\n",
       "      <th>NAME_CONTRACT_TYPE</th>\n",
       "      <th>CODE_GENDER</th>\n",
       "      <th>FLAG_OWN_CAR</th>\n",
       "      <th>FLAG_OWN_REALTY</th>\n",
       "      <th>CNT_CHILDREN</th>\n",
       "      <th>AMT_INCOME_TOTAL</th>\n",
       "      <th>AMT_CREDIT</th>\n",
       "      <th>DAYS_BIRTH</th>\n",
       "      <th>CNT_FAM_MEMBERS</th>\n",
       "      <th>REGION_RATING_CLIENT</th>\n",
       "      <th>WEEKDAY_APPR_PROCESS_START</th>\n",
       "      <th>REG_REGION_NOT_LIVE_REGION</th>\n",
       "      <th>TARGET</th>\n",
       "    </tr>\n",
       "  </thead>\n",
       "  <tbody>\n",
       "    <tr>\n",
       "      <th>12840</th>\n",
       "      <td>Cash loans</td>\n",
       "      <td>F</td>\n",
       "      <td>0</td>\n",
       "      <td>1</td>\n",
       "      <td>1</td>\n",
       "      <td>117000000.0</td>\n",
       "      <td>562491.0</td>\n",
       "      <td>35.0</td>\n",
       "      <td>3.0</td>\n",
       "      <td>2</td>\n",
       "      <td>3</td>\n",
       "      <td>0</td>\n",
       "      <td>1</td>\n",
       "    </tr>\n",
       "  </tbody>\n",
       "</table>\n",
       "</div>"
      ],
      "text/plain": [
       "      NAME_CONTRACT_TYPE CODE_GENDER  FLAG_OWN_CAR  FLAG_OWN_REALTY  \\\n",
       "12840         Cash loans           F             0                1   \n",
       "\n",
       "       CNT_CHILDREN  AMT_INCOME_TOTAL  AMT_CREDIT  DAYS_BIRTH  \\\n",
       "12840             1       117000000.0    562491.0        35.0   \n",
       "\n",
       "       CNT_FAM_MEMBERS  REGION_RATING_CLIENT  WEEKDAY_APPR_PROCESS_START  \\\n",
       "12840              3.0                     2                           3   \n",
       "\n",
       "       REG_REGION_NOT_LIVE_REGION  TARGET  \n",
       "12840                           0       1  "
      ]
     },
     "execution_count": 38,
     "metadata": {},
     "output_type": "execute_result"
    }
   ],
   "source": [
    "outlier(X_train_outliers,'AMT_INCOME_TOTAL')\n",
    "\n",
    "outlier_max = X_train_outliers['AMT_INCOME_TOTAL'].max()\n",
    "X_train_outliers[X_train_outliers['AMT_INCOME_TOTAL'] == outlier_max]"
   ]
  },
  {
   "cell_type": "code",
   "execution_count": 39,
   "id": "17ff0824",
   "metadata": {},
   "outputs": [
    {
     "name": "stdout",
     "output_type": "stream",
     "text": [
      " outlier lower limit : -537975.0 \n",
      " outlier upper limit : 1616625.0\n"
     ]
    },
    {
     "data": {
      "text/html": [
       "<div>\n",
       "<style scoped>\n",
       "    .dataframe tbody tr th:only-of-type {\n",
       "        vertical-align: middle;\n",
       "    }\n",
       "\n",
       "    .dataframe tbody tr th {\n",
       "        vertical-align: top;\n",
       "    }\n",
       "\n",
       "    .dataframe thead th {\n",
       "        text-align: right;\n",
       "    }\n",
       "</style>\n",
       "<table border=\"1\" class=\"dataframe\">\n",
       "  <thead>\n",
       "    <tr style=\"text-align: right;\">\n",
       "      <th></th>\n",
       "      <th>NAME_CONTRACT_TYPE</th>\n",
       "      <th>CODE_GENDER</th>\n",
       "      <th>FLAG_OWN_CAR</th>\n",
       "      <th>FLAG_OWN_REALTY</th>\n",
       "      <th>CNT_CHILDREN</th>\n",
       "      <th>AMT_INCOME_TOTAL</th>\n",
       "      <th>AMT_CREDIT</th>\n",
       "      <th>DAYS_BIRTH</th>\n",
       "      <th>CNT_FAM_MEMBERS</th>\n",
       "      <th>REGION_RATING_CLIENT</th>\n",
       "      <th>WEEKDAY_APPR_PROCESS_START</th>\n",
       "      <th>REG_REGION_NOT_LIVE_REGION</th>\n",
       "      <th>TARGET</th>\n",
       "    </tr>\n",
       "  </thead>\n",
       "  <tbody>\n",
       "    <tr>\n",
       "      <th>14852</th>\n",
       "      <td>Cash loans</td>\n",
       "      <td>M</td>\n",
       "      <td>0</td>\n",
       "      <td>1</td>\n",
       "      <td>1</td>\n",
       "      <td>760846.5</td>\n",
       "      <td>4050000.0</td>\n",
       "      <td>35.0</td>\n",
       "      <td>3.0</td>\n",
       "      <td>1</td>\n",
       "      <td>4</td>\n",
       "      <td>0</td>\n",
       "      <td>0</td>\n",
       "    </tr>\n",
       "    <tr>\n",
       "      <th>287730</th>\n",
       "      <td>Cash loans</td>\n",
       "      <td>F</td>\n",
       "      <td>1</td>\n",
       "      <td>0</td>\n",
       "      <td>1</td>\n",
       "      <td>405000.0</td>\n",
       "      <td>4050000.0</td>\n",
       "      <td>31.0</td>\n",
       "      <td>3.0</td>\n",
       "      <td>2</td>\n",
       "      <td>4</td>\n",
       "      <td>0</td>\n",
       "      <td>0</td>\n",
       "    </tr>\n",
       "    <tr>\n",
       "      <th>288453</th>\n",
       "      <td>Cash loans</td>\n",
       "      <td>F</td>\n",
       "      <td>1</td>\n",
       "      <td>0</td>\n",
       "      <td>1</td>\n",
       "      <td>450000.0</td>\n",
       "      <td>4050000.0</td>\n",
       "      <td>46.0</td>\n",
       "      <td>3.0</td>\n",
       "      <td>2</td>\n",
       "      <td>3</td>\n",
       "      <td>0</td>\n",
       "      <td>0</td>\n",
       "    </tr>\n",
       "    <tr>\n",
       "      <th>110458</th>\n",
       "      <td>Cash loans</td>\n",
       "      <td>M</td>\n",
       "      <td>0</td>\n",
       "      <td>0</td>\n",
       "      <td>2</td>\n",
       "      <td>864900.0</td>\n",
       "      <td>4050000.0</td>\n",
       "      <td>41.0</td>\n",
       "      <td>4.0</td>\n",
       "      <td>2</td>\n",
       "      <td>5</td>\n",
       "      <td>0</td>\n",
       "      <td>0</td>\n",
       "    </tr>\n",
       "    <tr>\n",
       "      <th>17948</th>\n",
       "      <td>Cash loans</td>\n",
       "      <td>M</td>\n",
       "      <td>1</td>\n",
       "      <td>0</td>\n",
       "      <td>2</td>\n",
       "      <td>783000.0</td>\n",
       "      <td>4050000.0</td>\n",
       "      <td>42.0</td>\n",
       "      <td>4.0</td>\n",
       "      <td>2</td>\n",
       "      <td>5</td>\n",
       "      <td>1</td>\n",
       "      <td>0</td>\n",
       "    </tr>\n",
       "    <tr>\n",
       "      <th>133765</th>\n",
       "      <td>Cash loans</td>\n",
       "      <td>F</td>\n",
       "      <td>1</td>\n",
       "      <td>0</td>\n",
       "      <td>1</td>\n",
       "      <td>1307587.5</td>\n",
       "      <td>4050000.0</td>\n",
       "      <td>42.0</td>\n",
       "      <td>3.0</td>\n",
       "      <td>1</td>\n",
       "      <td>7</td>\n",
       "      <td>0</td>\n",
       "      <td>0</td>\n",
       "    </tr>\n",
       "    <tr>\n",
       "      <th>119680</th>\n",
       "      <td>Cash loans</td>\n",
       "      <td>M</td>\n",
       "      <td>1</td>\n",
       "      <td>1</td>\n",
       "      <td>1</td>\n",
       "      <td>931365.0</td>\n",
       "      <td>4050000.0</td>\n",
       "      <td>34.0</td>\n",
       "      <td>3.0</td>\n",
       "      <td>2</td>\n",
       "      <td>2</td>\n",
       "      <td>0</td>\n",
       "      <td>0</td>\n",
       "    </tr>\n",
       "  </tbody>\n",
       "</table>\n",
       "</div>"
      ],
      "text/plain": [
       "       NAME_CONTRACT_TYPE CODE_GENDER  FLAG_OWN_CAR  FLAG_OWN_REALTY  \\\n",
       "14852          Cash loans           M             0                1   \n",
       "287730         Cash loans           F             1                0   \n",
       "288453         Cash loans           F             1                0   \n",
       "110458         Cash loans           M             0                0   \n",
       "17948          Cash loans           M             1                0   \n",
       "133765         Cash loans           F             1                0   \n",
       "119680         Cash loans           M             1                1   \n",
       "\n",
       "        CNT_CHILDREN  AMT_INCOME_TOTAL  AMT_CREDIT  DAYS_BIRTH  \\\n",
       "14852              1          760846.5   4050000.0        35.0   \n",
       "287730             1          405000.0   4050000.0        31.0   \n",
       "288453             1          450000.0   4050000.0        46.0   \n",
       "110458             2          864900.0   4050000.0        41.0   \n",
       "17948              2          783000.0   4050000.0        42.0   \n",
       "133765             1         1307587.5   4050000.0        42.0   \n",
       "119680             1          931365.0   4050000.0        34.0   \n",
       "\n",
       "        CNT_FAM_MEMBERS  REGION_RATING_CLIENT  WEEKDAY_APPR_PROCESS_START  \\\n",
       "14852               3.0                     1                           4   \n",
       "287730              3.0                     2                           4   \n",
       "288453              3.0                     2                           3   \n",
       "110458              4.0                     2                           5   \n",
       "17948               4.0                     2                           5   \n",
       "133765              3.0                     1                           7   \n",
       "119680              3.0                     2                           2   \n",
       "\n",
       "        REG_REGION_NOT_LIVE_REGION  TARGET  \n",
       "14852                            0       0  \n",
       "287730                           0       0  \n",
       "288453                           0       0  \n",
       "110458                           0       0  \n",
       "17948                            1       0  \n",
       "133765                           0       0  \n",
       "119680                           0       0  "
      ]
     },
     "execution_count": 39,
     "metadata": {},
     "output_type": "execute_result"
    }
   ],
   "source": [
    "outlier(X_train_outliers,'AMT_CREDIT')\n",
    "\n",
    "outlier_max = X_train_outliers['AMT_CREDIT'].max()\n",
    "X_train_outliers[X_train_outliers['AMT_CREDIT'] == outlier_max]"
   ]
  },
  {
   "cell_type": "code",
   "execution_count": 40,
   "id": "bfa5d9ce",
   "metadata": {},
   "outputs": [
    {
     "name": "stdout",
     "output_type": "stream",
     "text": [
      " outlier lower limit : 0.5 \n",
      " outlier upper limit : 4.5\n"
     ]
    },
    {
     "data": {
      "text/html": [
       "<div>\n",
       "<style scoped>\n",
       "    .dataframe tbody tr th:only-of-type {\n",
       "        vertical-align: middle;\n",
       "    }\n",
       "\n",
       "    .dataframe tbody tr th {\n",
       "        vertical-align: top;\n",
       "    }\n",
       "\n",
       "    .dataframe thead th {\n",
       "        text-align: right;\n",
       "    }\n",
       "</style>\n",
       "<table border=\"1\" class=\"dataframe\">\n",
       "  <thead>\n",
       "    <tr style=\"text-align: right;\">\n",
       "      <th></th>\n",
       "      <th>NAME_CONTRACT_TYPE</th>\n",
       "      <th>CODE_GENDER</th>\n",
       "      <th>FLAG_OWN_CAR</th>\n",
       "      <th>FLAG_OWN_REALTY</th>\n",
       "      <th>CNT_CHILDREN</th>\n",
       "      <th>AMT_INCOME_TOTAL</th>\n",
       "      <th>AMT_CREDIT</th>\n",
       "      <th>DAYS_BIRTH</th>\n",
       "      <th>CNT_FAM_MEMBERS</th>\n",
       "      <th>REGION_RATING_CLIENT</th>\n",
       "      <th>WEEKDAY_APPR_PROCESS_START</th>\n",
       "      <th>REG_REGION_NOT_LIVE_REGION</th>\n",
       "      <th>TARGET</th>\n",
       "    </tr>\n",
       "  </thead>\n",
       "  <tbody>\n",
       "    <tr>\n",
       "      <th>265782</th>\n",
       "      <td>Cash loans</td>\n",
       "      <td>F</td>\n",
       "      <td>0</td>\n",
       "      <td>1</td>\n",
       "      <td>19</td>\n",
       "      <td>112500.0</td>\n",
       "      <td>135000.0</td>\n",
       "      <td>28.0</td>\n",
       "      <td>20.0</td>\n",
       "      <td>2</td>\n",
       "      <td>5</td>\n",
       "      <td>0</td>\n",
       "      <td>0</td>\n",
       "    </tr>\n",
       "    <tr>\n",
       "      <th>155368</th>\n",
       "      <td>Cash loans</td>\n",
       "      <td>F</td>\n",
       "      <td>0</td>\n",
       "      <td>1</td>\n",
       "      <td>19</td>\n",
       "      <td>112500.0</td>\n",
       "      <td>269550.0</td>\n",
       "      <td>30.0</td>\n",
       "      <td>20.0</td>\n",
       "      <td>2</td>\n",
       "      <td>1</td>\n",
       "      <td>0</td>\n",
       "      <td>0</td>\n",
       "    </tr>\n",
       "  </tbody>\n",
       "</table>\n",
       "</div>"
      ],
      "text/plain": [
       "       NAME_CONTRACT_TYPE CODE_GENDER  FLAG_OWN_CAR  FLAG_OWN_REALTY  \\\n",
       "265782         Cash loans           F             0                1   \n",
       "155368         Cash loans           F             0                1   \n",
       "\n",
       "        CNT_CHILDREN  AMT_INCOME_TOTAL  AMT_CREDIT  DAYS_BIRTH  \\\n",
       "265782            19          112500.0    135000.0        28.0   \n",
       "155368            19          112500.0    269550.0        30.0   \n",
       "\n",
       "        CNT_FAM_MEMBERS  REGION_RATING_CLIENT  WEEKDAY_APPR_PROCESS_START  \\\n",
       "265782             20.0                     2                           5   \n",
       "155368             20.0                     2                           1   \n",
       "\n",
       "        REG_REGION_NOT_LIVE_REGION  TARGET  \n",
       "265782                           0       0  \n",
       "155368                           0       0  "
      ]
     },
     "execution_count": 40,
     "metadata": {},
     "output_type": "execute_result"
    }
   ],
   "source": [
    "outlier(X_train_outliers,'CNT_FAM_MEMBERS')\n",
    "\n",
    "outlier_max = X_train_outliers['CNT_FAM_MEMBERS'].max()\n",
    "X_train_outliers[X_train_outliers['CNT_FAM_MEMBERS'] == outlier_max]"
   ]
  },
  {
   "cell_type": "markdown",
   "id": "93247108",
   "metadata": {},
   "source": [
    "Obeservasi:\n",
    "- Terdapat Outliers pada kolom `CNT_CHILDREN`,`AMT_INCOME_TOTAL`,`AMT_CREDIT`, dan `CNT_FAM_MEMBERS`\n",
    "- Outliers pada kolom `CNT_CHILDREN` dan `CNT_FAM_MEMBERS` memiliki ID values dan nilai yang sama, dengan nilai jumlah anak sebanyak 19 orang dan jumlah anggota keluarga sebanyak 20 orang. Kedua hal tersebut masih masuk akal, maka tidak perlu menghapus outliers. Ada kemungkinan 2 transaksi ini dilakukan oleh orang yang sama\n",
    "- Pada kolom `AMT_INCOME_TOTAL` terdapat outliers sebesar \\$117000000, berarti ada pelanggan yang memiliki total pendapatan sebesar Rp.1.802.092.500.000 per tahun. Nilai tersebut tidak wajar karena nilai terlalu jauh dari boxplot dan hanya ada 1 data, maka perlu dihapus\n",
    "- Nilai outliers pada kolom `AMT_CREDIT` adalah \\$4050000, berarti ada pelanggan yang melakukan pinjaman kepada bank sebesar Rp.62.353.800.000. Nominal tersebut masih tergolong wajar, maka outlier tidak perlu dihapus\n"
   ]
  },
  {
   "cell_type": "code",
   "execution_count": 41,
   "id": "c1b6662f",
   "metadata": {},
   "outputs": [],
   "source": [
    "# Hapus outliers pada kolom `AMT_INCOME_TOTAL`\n",
    "X_train = X_train.drop(12840)\n",
    "y_train = y_train.drop(12840)"
   ]
  },
  {
   "cell_type": "markdown",
   "id": "8ee3b355",
   "metadata": {},
   "source": [
    "### 8.2 Check Distribution\n",
    "Cek distribusi tiap kolom menggunakan KDE plot"
   ]
  },
  {
   "cell_type": "code",
   "execution_count": 42,
   "id": "e397dce1",
   "metadata": {},
   "outputs": [
    {
     "data": {
      "image/png": "[encoded data removed]",
      "text/plain": [
       "<Figure size 720x432 with 5 Axes>"
      ]
     },
     "metadata": {},
     "output_type": "display_data"
    }
   ],
   "source": [
    "plt.figure(figsize=(10,6))\n",
    "features = numericals_trans\n",
    "for i in range(0, len(features)):\n",
    "    plt.subplot(2, len(features)//2 + 1, i+1)\n",
    "    #plt.subplot(1, len(features), i+1)\n",
    "    sns.distplot(x=X_train[features[i]], color='skyblue')\n",
    "    plt.xlabel(features[i])\n",
    "    plt.tight_layout()"
   ]
  },
  {
   "cell_type": "markdown",
   "id": "2fec9616",
   "metadata": {},
   "source": [
    "Observasi:\n",
    "- Pada kolom `DAYS_BIRTH` bentuk grafik tidak simetris, namun tidak cukup ekstreme dan tidak positive skew. Maka dapat dicoba lakukan log tranformasi, namun jika hasilnya tidak lebih baik maka tidak perlu di transformasi\n",
    "- Kolom `CNT_CHILDREN`, `AMT_INCOME_TOTAL`, `AMT_CREDIT` dan `CNT_FAM_MEMBERS` memiliki bentuk grafik yang tidak simetris dan positive skew. Maka perlu dilakukan log transformasi"
   ]
  },
  {
   "cell_type": "markdown",
   "id": "77f1b764",
   "metadata": {},
   "source": [
    "## 9. Multivariate Analysis"
   ]
  },
  {
   "cell_type": "markdown",
   "id": "9dc73caf",
   "metadata": {},
   "source": [
    "### 9.1 Analisa Numericals Column"
   ]
  },
  {
   "cell_type": "code",
   "execution_count": 43,
   "id": "8880eebe",
   "metadata": {},
   "outputs": [
    {
     "data": {
      "image/png": "[encoded data removed]",
      "text/plain": [
       "<Figure size 1296x432 with 5 Axes>"
      ]
     },
     "metadata": {},
     "output_type": "display_data"
    }
   ],
   "source": [
    "plt.figure(figsize=(18,6))\n",
    "\n",
    "for x in range(0, len(numericals_trans)):\n",
    "    plt.subplot(1, len(numericals_trans), x+1)\n",
    "    sns.boxplot(x=X_train['TARGET'],y=X_train[numericals_trans[x]], color='skyblue')\n",
    "    plt.tight_layout()"
   ]
  },
  {
   "cell_type": "markdown",
   "id": "e55b6aa1",
   "metadata": {},
   "source": [
    "Observasi:\n",
    "- Pelanggan yang memiliki jumlah anak (`CNT_CHILDREN`) >10 cenderung tidak terlambat dalam pembayaran kredit\n",
    "- Pelanggan dengan pendapatan total (`AMT_INCOME_TOTAL`) >\\$4000000 cenderung tidak terlambat dalam pembayaran kredit\n",
    "- Pelanggan dengan total pinjaman (`AMT_CREDIT`) > \\$3000000 cenderung tidak terlambat dalam pembayaran kredit\n",
    "- Pelanggan yang memiliki jumlah anggota keluarga (`CNT_FAM_MEMBERS`) >10 cenderung tidak terlambat dalam pembayaran kredit"
   ]
  },
  {
   "cell_type": "markdown",
   "id": "53cba117",
   "metadata": {},
   "source": [
    "### 9.2 Analisa Customer Demographic (Categorical)"
   ]
  },
  {
   "cell_type": "code",
   "execution_count": 127,
   "id": "55097ff6",
   "metadata": {},
   "outputs": [],
   "source": [
    "def predictor_target (p,t='TARGET') :\n",
    "    \n",
    "    ax = ((X_train.groupby([p])[t].mean())/((X_train.groupby([p])[t].mean()).sum())*100).sort_values(ascending=False).plot(kind='bar',figsize=(10,8), color='#90a955')\n",
    "    abs_values = round(((X_train.groupby([p])[t].mean())/((X_train.groupby([p])[t].mean()).sum())*100),1).sort_values(ascending=False)\n",
    "    ax.bar_label(container=ax.containers[0], labels=abs_values)  \n",
    "    \n",
    "    plt.xticks(rotation=0);\n",
    "    plt.ylabel('Late Payment / TARGET (%)',fontsize=12)\n",
    "    plt.title(f'{p} vs Late Payment / TARGET (%)',fontsize=16)\n",
    "    plt.xlabel(p,fontsize=12)\n",
    "    plt.ylim(0,100)\n",
    "    \n",
    "    plt.show()"
   ]
  },
  {
   "cell_type": "code",
   "execution_count": 118,
   "id": "9d4251a9",
   "metadata": {},
   "outputs": [],
   "source": [
    "demographic  = ['CODE_GENDER', 'REGION_RATING_CLIENT']"
   ]
  },
  {
   "cell_type": "code",
   "execution_count": 128,
   "id": "34252df9",
   "metadata": {},
   "outputs": [
    {
     "data": {
      "image/png": "[encoded data removed]",
      "text/plain": [
       "<Figure size 720x576 with 1 Axes>"
      ]
     },
     "metadata": {},
     "output_type": "display_data"
    },
    {
     "data": {
      "image/png": "[encoded data removed]",
      "text/plain": [
       "<Figure size 720x576 with 1 Axes>"
      ]
     },
     "metadata": {},
     "output_type": "display_data"
    }
   ],
   "source": [
    "for x in demographic :\n",
    "    predictor_target(x)"
   ]
  },
  {
   "cell_type": "code",
   "execution_count": 47,
   "id": "df847bad",
   "metadata": {},
   "outputs": [
    {
     "name": "stdout",
     "output_type": "stream",
     "text": [
      "===== CODE_GENDER =====\n",
      "Number Expected :\n",
      "[[139652.16234006  12263.83765994]\n",
      " [ 72356.83765994   6354.16234006]]\n",
      "\n",
      "Chi-square Statistic : 678.1578847140188 ,p-value: 1.6808269355791464e-149 kurang dari 0.05 \n",
      "Variabel 1 dan Variabel 2 adalah variabel dependent\n",
      "\n",
      "===== REGION_RATING_CLIENT =====\n",
      "Number Expected :\n",
      "[[ 22246.388324     1953.611676  ]\n",
      " [156367.28956714  13731.71043286]\n",
      " [ 33395.32210886   2932.67789114]]\n",
      "\n",
      "Chi-square Statistic : 783.394428601661 ,p-value: 7.727895705478558e-171 kurang dari 0.05 \n",
      "Variabel 1 dan Variabel 2 adalah variabel dependent\n",
      "\n"
     ]
    }
   ],
   "source": [
    "for x in demographic :\n",
    "    chi_cek(x,'TARGET')"
   ]
  },
  {
   "cell_type": "markdown",
   "id": "c2a2bd96",
   "metadata": {},
   "source": [
    "Obesrvasi:\n",
    "- Feature `CODE_GENDER ` dan `REGION_RATING_CLIENT ` berkorelasi terhadap target variabel (`TARGET`)\n",
    "- Pelanggan laki-laki lebih sering terlambat dalam pembayaran kredit\n",
    "- Pelanggan yang tinggal dalam wilayah peringkat 3, lebih sering terlambat dalam pembayaran kredit"
   ]
  },
  {
   "cell_type": "markdown",
   "id": "fadc20b5",
   "metadata": {},
   "source": [
    "### 9.3 Analisa Customer Contract (Categorical)"
   ]
  },
  {
   "cell_type": "code",
   "execution_count": 125,
   "id": "43f859a9",
   "metadata": {},
   "outputs": [],
   "source": [
    "contract = ['NAME_CONTRACT_TYPE', 'WEEKDAY_APPR_PROCESS_START', 'REG_REGION_NOT_LIVE_REGION']"
   ]
  },
  {
   "cell_type": "code",
   "execution_count": 129,
   "id": "295944ee",
   "metadata": {},
   "outputs": [
    {
     "data": {
      "image/png": "[encoded data removed]",
      "text/plain": [
       "<Figure size 720x576 with 1 Axes>"
      ]
     },
     "metadata": {},
     "output_type": "display_data"
    },
    {
     "data": {
      "image/png": "[encoded data removed]",
      "text/plain": [
       "<Figure size 720x576 with 1 Axes>"
      ]
     },
     "metadata": {},
     "output_type": "display_data"
    },
    {
     "data": {
      "image/png": "[encoded data removed]",
      "text/plain": [
       "<Figure size 720x576 with 1 Axes>"
      ]
     },
     "metadata": {},
     "output_type": "display_data"
    }
   ],
   "source": [
    "for x in contract :\n",
    "    predictor_target(x)"
   ]
  },
  {
   "cell_type": "code",
   "execution_count": 50,
   "id": "872927de",
   "metadata": {},
   "outputs": [
    {
     "name": "stdout",
     "output_type": "stream",
     "text": [
      "===== NAME_CONTRACT_TYPE =====\n",
      "Number Expected :\n",
      "[[191822.70077658  16845.29922342]\n",
      " [ 20186.29922342   1772.70077658]]\n",
      "\n",
      "Chi-square Statistic : 208.3094505588519 ,p-value: 3.211461480492971e-47 kurang dari 0.05 \n",
      "Variabel 1 dan Variabel 2 adalah variabel dependent\n",
      "\n",
      "===== WEEKDAY_APPR_PROCESS_START =====\n",
      "Number Expected :\n",
      "[[11185.70467465   982.29532535]\n",
      " [35038.06161031  3076.93838969]\n",
      " [37104.5856166   3258.4143834 ]\n",
      " [35732.11215512  3137.88784488]\n",
      " [34683.22252382  3045.77747618]\n",
      " [34809.16282135  3056.83717865]\n",
      " [23456.15059815  2059.84940185]]\n",
      "\n",
      "Chi-square Statistic : 16.4269406974669 ,p-value: 0.011636914027019904 kurang dari 0.05 \n",
      "Variabel 1 dan Variabel 2 adalah variabel dependent\n",
      "\n",
      "===== REG_REGION_NOT_LIVE_REGION =====\n",
      "Number Expected :\n",
      "[[208813.6096771  18337.3903229]\n",
      " [  3195.3903229    280.6096771]]\n",
      "\n",
      "Chi-square Statistic : 5.650739900727603 ,p-value: 0.01744800868776273 kurang dari 0.05 \n",
      "Variabel 1 dan Variabel 2 adalah variabel dependent\n",
      "\n"
     ]
    }
   ],
   "source": [
    "for x in contract :\n",
    "    chi_cek(x,'TARGET')"
   ]
  },
  {
   "cell_type": "markdown",
   "id": "efb9f151",
   "metadata": {},
   "source": [
    "Observasi:\n",
    "- Feature `NAME_CONTRACT_TYPE` dan `REG_REGION_NOT_LIVE_REGION` berkorelasi terhadap target variabel (`TARGET`)\n",
    "- Feature `WEEKDAY_APPR_PROCESS_START` berkorelasi terhadap target variabel (`TARGET`), namun selisih TARGET(%) tidak terlalu jauh. Hanya berbeda 1.1% dari hari tertinggi dan terendah \n",
    "- Pelanggan yang memilih tipe kontrak Pinjaman Tunai (Cash) lebih sering terlambat dalam pembayaran kredit\n",
    "- Pelanggan dengan meiliki alamat berbeda dalam pengisian form alamat tetap dan alamat kontak lebih sering terlambat dalam pembayaran kredit "
   ]
  },
  {
   "cell_type": "markdown",
   "id": "5aac8990",
   "metadata": {},
   "source": [
    "### 9.4 Analisa Customer Property (Categorical)"
   ]
  },
  {
   "cell_type": "code",
   "execution_count": 51,
   "id": "2119e433",
   "metadata": {},
   "outputs": [],
   "source": [
    "property = ['FLAG_OWN_CAR', 'FLAG_OWN_REALTY']"
   ]
  },
  {
   "cell_type": "code",
   "execution_count": 52,
   "id": "0e5ed908",
   "metadata": {},
   "outputs": [
    {
     "data": {
      "image/png": "[encoded data removed]",
      "text/plain": [
       "<Figure size 720x576 with 1 Axes>"
      ]
     },
     "metadata": {},
     "output_type": "display_data"
    },
    {
     "data": {
      "image/png": "[encoded data removed]",
      "text/plain": [
       "<Figure size 720x576 with 1 Axes>"
      ]
     },
     "metadata": {},
     "output_type": "display_data"
    }
   ],
   "source": [
    "for x in property :\n",
    "    predictor_target(x)"
   ]
  },
  {
   "cell_type": "code",
   "execution_count": 53,
   "id": "1b5ae280",
   "metadata": {},
   "outputs": [
    {
     "name": "stdout",
     "output_type": "stream",
     "text": [
      "===== FLAG_OWN_CAR =====\n",
      "Number Expected :\n",
      "[[140047.44940532  12298.55059468]\n",
      " [ 71961.55059468   6319.44940532]]\n",
      "\n",
      "Chi-square Statistic : 109.40518279344826 ,p-value: 1.3228323052680612e-25 kurang dari 0.05 \n",
      "Variabel 1 dan Variabel 2 adalah variabel dependent\n",
      "\n",
      "===== FLAG_OWN_REALTY =====\n",
      "Number Expected :\n",
      "[[ 64936.47209997   5702.52790003]\n",
      " [147072.52790003  12915.47209997]]\n",
      "\n",
      "Chi-square Statistic : 5.779363801890717 ,p-value: 0.016215409657717915 kurang dari 0.05 \n",
      "Variabel 1 dan Variabel 2 adalah variabel dependent\n",
      "\n"
     ]
    }
   ],
   "source": [
    "for x in property :\n",
    "    chi_cek(x,'TARGET')"
   ]
  },
  {
   "cell_type": "markdown",
   "id": "aad1dd97",
   "metadata": {},
   "source": [
    "Obesrvasi:\n",
    "- Feature `FLAG_OWN_CAR` berkorelasi terhadap target variabel (`TARGET`)\n",
    "- Feature `FLAG_OWN_REALTY` berkorelasi terhadap target variabel (`TARGET`), namun selisih TARGET(%) tidak terlalu jauh. Hanya berbeda 1.8% antar nilai\n",
    "- Pelanggan yang tidak memiliki mobil lebih sering terlambat dalam pembayaran kredit"
   ]
  },
  {
   "cell_type": "markdown",
   "id": "4abd75ea",
   "metadata": {},
   "source": [
    "# Data Preprocessing"
   ]
  },
  {
   "cell_type": "code",
   "execution_count": 54,
   "id": "192332c7",
   "metadata": {},
   "outputs": [
    {
     "name": "stdout",
     "output_type": "stream",
     "text": [
      "Number of Rows,Columns (230627, 13)\n",
      "Number of Duplicated Values 1802\n"
     ]
    },
    {
     "data": {
      "text/html": [
       "<div>\n",
       "<style scoped>\n",
       "    .dataframe tbody tr th:only-of-type {\n",
       "        vertical-align: middle;\n",
       "    }\n",
       "\n",
       "    .dataframe tbody tr th {\n",
       "        vertical-align: top;\n",
       "    }\n",
       "\n",
       "    .dataframe thead th {\n",
       "        text-align: right;\n",
       "    }\n",
       "</style>\n",
       "<table border=\"1\" class=\"dataframe\">\n",
       "  <thead>\n",
       "    <tr style=\"text-align: right;\">\n",
       "      <th></th>\n",
       "      <th>Missing_value</th>\n",
       "      <th>Percent_missing_%</th>\n",
       "      <th>Data_type</th>\n",
       "      <th>Number of Unique</th>\n",
       "    </tr>\n",
       "  </thead>\n",
       "  <tbody>\n",
       "    <tr>\n",
       "      <th>NAME_CONTRACT_TYPE</th>\n",
       "      <td>0</td>\n",
       "      <td>0.0</td>\n",
       "      <td>object</td>\n",
       "      <td>2</td>\n",
       "    </tr>\n",
       "    <tr>\n",
       "      <th>CODE_GENDER</th>\n",
       "      <td>0</td>\n",
       "      <td>0.0</td>\n",
       "      <td>object</td>\n",
       "      <td>2</td>\n",
       "    </tr>\n",
       "    <tr>\n",
       "      <th>FLAG_OWN_CAR</th>\n",
       "      <td>0</td>\n",
       "      <td>0.0</td>\n",
       "      <td>int64</td>\n",
       "      <td>2</td>\n",
       "    </tr>\n",
       "    <tr>\n",
       "      <th>FLAG_OWN_REALTY</th>\n",
       "      <td>0</td>\n",
       "      <td>0.0</td>\n",
       "      <td>int64</td>\n",
       "      <td>2</td>\n",
       "    </tr>\n",
       "    <tr>\n",
       "      <th>CNT_CHILDREN</th>\n",
       "      <td>0</td>\n",
       "      <td>0.0</td>\n",
       "      <td>int64</td>\n",
       "      <td>14</td>\n",
       "    </tr>\n",
       "    <tr>\n",
       "      <th>AMT_INCOME_TOTAL</th>\n",
       "      <td>0</td>\n",
       "      <td>0.0</td>\n",
       "      <td>float64</td>\n",
       "      <td>2059</td>\n",
       "    </tr>\n",
       "    <tr>\n",
       "      <th>AMT_CREDIT</th>\n",
       "      <td>0</td>\n",
       "      <td>0.0</td>\n",
       "      <td>float64</td>\n",
       "      <td>5170</td>\n",
       "    </tr>\n",
       "    <tr>\n",
       "      <th>DAYS_BIRTH</th>\n",
       "      <td>0</td>\n",
       "      <td>0.0</td>\n",
       "      <td>float64</td>\n",
       "      <td>49</td>\n",
       "    </tr>\n",
       "    <tr>\n",
       "      <th>CNT_FAM_MEMBERS</th>\n",
       "      <td>0</td>\n",
       "      <td>0.0</td>\n",
       "      <td>float64</td>\n",
       "      <td>14</td>\n",
       "    </tr>\n",
       "    <tr>\n",
       "      <th>REGION_RATING_CLIENT</th>\n",
       "      <td>0</td>\n",
       "      <td>0.0</td>\n",
       "      <td>int64</td>\n",
       "      <td>3</td>\n",
       "    </tr>\n",
       "    <tr>\n",
       "      <th>WEEKDAY_APPR_PROCESS_START</th>\n",
       "      <td>0</td>\n",
       "      <td>0.0</td>\n",
       "      <td>int64</td>\n",
       "      <td>7</td>\n",
       "    </tr>\n",
       "    <tr>\n",
       "      <th>REG_REGION_NOT_LIVE_REGION</th>\n",
       "      <td>0</td>\n",
       "      <td>0.0</td>\n",
       "      <td>int64</td>\n",
       "      <td>2</td>\n",
       "    </tr>\n",
       "    <tr>\n",
       "      <th>TARGET</th>\n",
       "      <td>0</td>\n",
       "      <td>0.0</td>\n",
       "      <td>int64</td>\n",
       "      <td>2</td>\n",
       "    </tr>\n",
       "  </tbody>\n",
       "</table>\n",
       "</div>"
      ],
      "text/plain": [
       "                            Missing_value  Percent_missing_% Data_type  \\\n",
       "NAME_CONTRACT_TYPE                      0                0.0    object   \n",
       "CODE_GENDER                             0                0.0    object   \n",
       "FLAG_OWN_CAR                            0                0.0     int64   \n",
       "FLAG_OWN_REALTY                         0                0.0     int64   \n",
       "CNT_CHILDREN                            0                0.0     int64   \n",
       "AMT_INCOME_TOTAL                        0                0.0   float64   \n",
       "AMT_CREDIT                              0                0.0   float64   \n",
       "DAYS_BIRTH                              0                0.0   float64   \n",
       "CNT_FAM_MEMBERS                         0                0.0   float64   \n",
       "REGION_RATING_CLIENT                    0                0.0     int64   \n",
       "WEEKDAY_APPR_PROCESS_START              0                0.0     int64   \n",
       "REG_REGION_NOT_LIVE_REGION              0                0.0     int64   \n",
       "TARGET                                  0                0.0     int64   \n",
       "\n",
       "                            Number of Unique  \n",
       "NAME_CONTRACT_TYPE                         2  \n",
       "CODE_GENDER                                2  \n",
       "FLAG_OWN_CAR                               2  \n",
       "FLAG_OWN_REALTY                            2  \n",
       "CNT_CHILDREN                              14  \n",
       "AMT_INCOME_TOTAL                        2059  \n",
       "AMT_CREDIT                              5170  \n",
       "DAYS_BIRTH                                49  \n",
       "CNT_FAM_MEMBERS                           14  \n",
       "REGION_RATING_CLIENT                       3  \n",
       "WEEKDAY_APPR_PROCESS_START                 7  \n",
       "REG_REGION_NOT_LIVE_REGION                 2  \n",
       "TARGET                                     2  "
      ]
     },
     "execution_count": 54,
     "metadata": {},
     "output_type": "execute_result"
    }
   ],
   "source": [
    "info_data(X_train)"
   ]
  },
  {
   "cell_type": "markdown",
   "id": "5f67ff57",
   "metadata": {},
   "source": [
    "Observasi : \n",
    "\n",
    "Berdasarkan EDA diketahui bahwa feature `WEEKDAY_APPR_PROCESS_START` dan `FLAG_OWN_REALTY` berkorelasi terhadapa target variabel (`TARGET`) namun memiliki selisih `TARGET(%)` yang sangat kecil. Maka dapat didrop "
   ]
  },
  {
   "cell_type": "code",
   "execution_count": 55,
   "id": "e6090986",
   "metadata": {},
   "outputs": [],
   "source": [
    "X_train_drop = X_train.copy()"
   ]
  },
  {
   "cell_type": "code",
   "execution_count": 56,
   "id": "81000105",
   "metadata": {},
   "outputs": [],
   "source": [
    "X_train_drop = X_train.drop(['WEEKDAY_APPR_PROCESS_START','FLAG_OWN_REALTY'],axis=1)"
   ]
  },
  {
   "cell_type": "code",
   "execution_count": 57,
   "id": "f0218d70",
   "metadata": {},
   "outputs": [
    {
     "name": "stdout",
     "output_type": "stream",
     "text": [
      "Number of Rows,Columns (230627, 11)\n",
      "Number of Duplicated Values 13337\n"
     ]
    },
    {
     "data": {
      "text/html": [
       "<div>\n",
       "<style scoped>\n",
       "    .dataframe tbody tr th:only-of-type {\n",
       "        vertical-align: middle;\n",
       "    }\n",
       "\n",
       "    .dataframe tbody tr th {\n",
       "        vertical-align: top;\n",
       "    }\n",
       "\n",
       "    .dataframe thead th {\n",
       "        text-align: right;\n",
       "    }\n",
       "</style>\n",
       "<table border=\"1\" class=\"dataframe\">\n",
       "  <thead>\n",
       "    <tr style=\"text-align: right;\">\n",
       "      <th></th>\n",
       "      <th>Missing_value</th>\n",
       "      <th>Percent_missing_%</th>\n",
       "      <th>Data_type</th>\n",
       "      <th>Number of Unique</th>\n",
       "    </tr>\n",
       "  </thead>\n",
       "  <tbody>\n",
       "    <tr>\n",
       "      <th>NAME_CONTRACT_TYPE</th>\n",
       "      <td>0</td>\n",
       "      <td>0.0</td>\n",
       "      <td>object</td>\n",
       "      <td>2</td>\n",
       "    </tr>\n",
       "    <tr>\n",
       "      <th>CODE_GENDER</th>\n",
       "      <td>0</td>\n",
       "      <td>0.0</td>\n",
       "      <td>object</td>\n",
       "      <td>2</td>\n",
       "    </tr>\n",
       "    <tr>\n",
       "      <th>FLAG_OWN_CAR</th>\n",
       "      <td>0</td>\n",
       "      <td>0.0</td>\n",
       "      <td>int64</td>\n",
       "      <td>2</td>\n",
       "    </tr>\n",
       "    <tr>\n",
       "      <th>CNT_CHILDREN</th>\n",
       "      <td>0</td>\n",
       "      <td>0.0</td>\n",
       "      <td>int64</td>\n",
       "      <td>14</td>\n",
       "    </tr>\n",
       "    <tr>\n",
       "      <th>AMT_INCOME_TOTAL</th>\n",
       "      <td>0</td>\n",
       "      <td>0.0</td>\n",
       "      <td>float64</td>\n",
       "      <td>2059</td>\n",
       "    </tr>\n",
       "    <tr>\n",
       "      <th>AMT_CREDIT</th>\n",
       "      <td>0</td>\n",
       "      <td>0.0</td>\n",
       "      <td>float64</td>\n",
       "      <td>5170</td>\n",
       "    </tr>\n",
       "    <tr>\n",
       "      <th>DAYS_BIRTH</th>\n",
       "      <td>0</td>\n",
       "      <td>0.0</td>\n",
       "      <td>float64</td>\n",
       "      <td>49</td>\n",
       "    </tr>\n",
       "    <tr>\n",
       "      <th>CNT_FAM_MEMBERS</th>\n",
       "      <td>0</td>\n",
       "      <td>0.0</td>\n",
       "      <td>float64</td>\n",
       "      <td>14</td>\n",
       "    </tr>\n",
       "    <tr>\n",
       "      <th>REGION_RATING_CLIENT</th>\n",
       "      <td>0</td>\n",
       "      <td>0.0</td>\n",
       "      <td>int64</td>\n",
       "      <td>3</td>\n",
       "    </tr>\n",
       "    <tr>\n",
       "      <th>REG_REGION_NOT_LIVE_REGION</th>\n",
       "      <td>0</td>\n",
       "      <td>0.0</td>\n",
       "      <td>int64</td>\n",
       "      <td>2</td>\n",
       "    </tr>\n",
       "    <tr>\n",
       "      <th>TARGET</th>\n",
       "      <td>0</td>\n",
       "      <td>0.0</td>\n",
       "      <td>int64</td>\n",
       "      <td>2</td>\n",
       "    </tr>\n",
       "  </tbody>\n",
       "</table>\n",
       "</div>"
      ],
      "text/plain": [
       "                            Missing_value  Percent_missing_% Data_type  \\\n",
       "NAME_CONTRACT_TYPE                      0                0.0    object   \n",
       "CODE_GENDER                             0                0.0    object   \n",
       "FLAG_OWN_CAR                            0                0.0     int64   \n",
       "CNT_CHILDREN                            0                0.0     int64   \n",
       "AMT_INCOME_TOTAL                        0                0.0   float64   \n",
       "AMT_CREDIT                              0                0.0   float64   \n",
       "DAYS_BIRTH                              0                0.0   float64   \n",
       "CNT_FAM_MEMBERS                         0                0.0   float64   \n",
       "REGION_RATING_CLIENT                    0                0.0     int64   \n",
       "REG_REGION_NOT_LIVE_REGION              0                0.0     int64   \n",
       "TARGET                                  0                0.0     int64   \n",
       "\n",
       "                            Number of Unique  \n",
       "NAME_CONTRACT_TYPE                         2  \n",
       "CODE_GENDER                                2  \n",
       "FLAG_OWN_CAR                               2  \n",
       "CNT_CHILDREN                              14  \n",
       "AMT_INCOME_TOTAL                        2059  \n",
       "AMT_CREDIT                              5170  \n",
       "DAYS_BIRTH                                49  \n",
       "CNT_FAM_MEMBERS                           14  \n",
       "REGION_RATING_CLIENT                       3  \n",
       "REG_REGION_NOT_LIVE_REGION                 2  \n",
       "TARGET                                     2  "
      ]
     },
     "execution_count": 57,
     "metadata": {},
     "output_type": "execute_result"
    }
   ],
   "source": [
    "info_data(X_train_drop)"
   ]
  },
  {
   "cell_type": "markdown",
   "id": "f9bab5fa",
   "metadata": {},
   "source": [
    "## 11. Transform Object to Numeric - Training Data"
   ]
  },
  {
   "cell_type": "markdown",
   "id": "5ba8c11f",
   "metadata": {},
   "source": [
    "### 11.1 One Hot Encoding\n",
    "\n",
    "Feature yang akan ditransform:\n",
    "1. NAME_CONTRACT_TYPE\n",
    "2. CODE_GENDER\t"
   ]
  },
  {
   "cell_type": "code",
   "execution_count": 58,
   "id": "23164c5a",
   "metadata": {},
   "outputs": [],
   "source": [
    "X_train_drop= pd.get_dummies(X_train_drop,columns=['NAME_CONTRACT_TYPE'])\n",
    "X_train_drop= pd.get_dummies(X_train_drop,columns=['CODE_GENDER'])"
   ]
  },
  {
   "cell_type": "code",
   "execution_count": 59,
   "id": "64f9219f",
   "metadata": {},
   "outputs": [
    {
     "data": {
      "text/html": [
       "<div>\n",
       "<style scoped>\n",
       "    .dataframe tbody tr th:only-of-type {\n",
       "        vertical-align: middle;\n",
       "    }\n",
       "\n",
       "    .dataframe tbody tr th {\n",
       "        vertical-align: top;\n",
       "    }\n",
       "\n",
       "    .dataframe thead th {\n",
       "        text-align: right;\n",
       "    }\n",
       "</style>\n",
       "<table border=\"1\" class=\"dataframe\">\n",
       "  <thead>\n",
       "    <tr style=\"text-align: right;\">\n",
       "      <th></th>\n",
       "      <th>FLAG_OWN_CAR</th>\n",
       "      <th>CNT_CHILDREN</th>\n",
       "      <th>AMT_INCOME_TOTAL</th>\n",
       "      <th>AMT_CREDIT</th>\n",
       "      <th>DAYS_BIRTH</th>\n",
       "      <th>CNT_FAM_MEMBERS</th>\n",
       "      <th>REGION_RATING_CLIENT</th>\n",
       "      <th>REG_REGION_NOT_LIVE_REGION</th>\n",
       "      <th>TARGET</th>\n",
       "      <th>NAME_CONTRACT_TYPE_Cash loans</th>\n",
       "      <th>NAME_CONTRACT_TYPE_Revolving loans</th>\n",
       "      <th>CODE_GENDER_F</th>\n",
       "      <th>CODE_GENDER_M</th>\n",
       "    </tr>\n",
       "  </thead>\n",
       "  <tbody>\n",
       "    <tr>\n",
       "      <th>115415</th>\n",
       "      <td>0</td>\n",
       "      <td>0</td>\n",
       "      <td>90000.0</td>\n",
       "      <td>161730.0</td>\n",
       "      <td>54.0</td>\n",
       "      <td>2.0</td>\n",
       "      <td>2</td>\n",
       "      <td>0</td>\n",
       "      <td>0</td>\n",
       "      <td>1</td>\n",
       "      <td>0</td>\n",
       "      <td>1</td>\n",
       "      <td>0</td>\n",
       "    </tr>\n",
       "    <tr>\n",
       "      <th>260031</th>\n",
       "      <td>0</td>\n",
       "      <td>1</td>\n",
       "      <td>112500.0</td>\n",
       "      <td>521280.0</td>\n",
       "      <td>28.0</td>\n",
       "      <td>3.0</td>\n",
       "      <td>3</td>\n",
       "      <td>0</td>\n",
       "      <td>1</td>\n",
       "      <td>1</td>\n",
       "      <td>0</td>\n",
       "      <td>1</td>\n",
       "      <td>0</td>\n",
       "    </tr>\n",
       "    <tr>\n",
       "      <th>128753</th>\n",
       "      <td>1</td>\n",
       "      <td>1</td>\n",
       "      <td>103500.0</td>\n",
       "      <td>315000.0</td>\n",
       "      <td>31.0</td>\n",
       "      <td>3.0</td>\n",
       "      <td>2</td>\n",
       "      <td>0</td>\n",
       "      <td>0</td>\n",
       "      <td>0</td>\n",
       "      <td>1</td>\n",
       "      <td>1</td>\n",
       "      <td>0</td>\n",
       "    </tr>\n",
       "    <tr>\n",
       "      <th>12997</th>\n",
       "      <td>0</td>\n",
       "      <td>0</td>\n",
       "      <td>135000.0</td>\n",
       "      <td>536917.5</td>\n",
       "      <td>62.0</td>\n",
       "      <td>2.0</td>\n",
       "      <td>2</td>\n",
       "      <td>0</td>\n",
       "      <td>0</td>\n",
       "      <td>1</td>\n",
       "      <td>0</td>\n",
       "      <td>1</td>\n",
       "      <td>0</td>\n",
       "    </tr>\n",
       "    <tr>\n",
       "      <th>166440</th>\n",
       "      <td>0</td>\n",
       "      <td>0</td>\n",
       "      <td>81000.0</td>\n",
       "      <td>350860.5</td>\n",
       "      <td>65.0</td>\n",
       "      <td>1.0</td>\n",
       "      <td>2</td>\n",
       "      <td>0</td>\n",
       "      <td>0</td>\n",
       "      <td>1</td>\n",
       "      <td>0</td>\n",
       "      <td>1</td>\n",
       "      <td>0</td>\n",
       "    </tr>\n",
       "  </tbody>\n",
       "</table>\n",
       "</div>"
      ],
      "text/plain": [
       "        FLAG_OWN_CAR  CNT_CHILDREN  AMT_INCOME_TOTAL  AMT_CREDIT  DAYS_BIRTH  \\\n",
       "115415             0             0           90000.0    161730.0        54.0   \n",
       "260031             0             1          112500.0    521280.0        28.0   \n",
       "128753             1             1          103500.0    315000.0        31.0   \n",
       "12997              0             0          135000.0    536917.5        62.0   \n",
       "166440             0             0           81000.0    350860.5        65.0   \n",
       "\n",
       "        CNT_FAM_MEMBERS  REGION_RATING_CLIENT  REG_REGION_NOT_LIVE_REGION  \\\n",
       "115415              2.0                     2                           0   \n",
       "260031              3.0                     3                           0   \n",
       "128753              3.0                     2                           0   \n",
       "12997               2.0                     2                           0   \n",
       "166440              1.0                     2                           0   \n",
       "\n",
       "        TARGET  NAME_CONTRACT_TYPE_Cash loans  \\\n",
       "115415       0                              1   \n",
       "260031       1                              1   \n",
       "128753       0                              0   \n",
       "12997        0                              1   \n",
       "166440       0                              1   \n",
       "\n",
       "        NAME_CONTRACT_TYPE_Revolving loans  CODE_GENDER_F  CODE_GENDER_M  \n",
       "115415                                   0              1              0  \n",
       "260031                                   0              1              0  \n",
       "128753                                   1              1              0  \n",
       "12997                                    0              1              0  \n",
       "166440                                   0              1              0  "
      ]
     },
     "execution_count": 59,
     "metadata": {},
     "output_type": "execute_result"
    }
   ],
   "source": [
    "X_train_drop.head()"
   ]
  },
  {
   "cell_type": "markdown",
   "id": "320df638",
   "metadata": {},
   "source": [
    "## 12. Feature Selection"
   ]
  },
  {
   "cell_type": "code",
   "execution_count": 60,
   "id": "89b4c75b",
   "metadata": {},
   "outputs": [],
   "source": [
    "X_train_drop = X_train_drop.drop('TARGET',axis=1)"
   ]
  },
  {
   "cell_type": "code",
   "execution_count": 61,
   "id": "42cad097",
   "metadata": {},
   "outputs": [],
   "source": [
    "mi = mutual_info_classif(X_train_drop, y_train,random_state=42)"
   ]
  },
  {
   "cell_type": "code",
   "execution_count": 124,
   "id": "fcd38c20",
   "metadata": {},
   "outputs": [
    {
     "data": {
      "image/png": "[encoded data removed]",
      "text/plain": [
       "<Figure size 1440x720 with 1 Axes>"
      ]
     },
     "metadata": {},
     "output_type": "display_data"
    }
   ],
   "source": [
    "mi = pd.Series(mi)\n",
    "mi.index = X_train_drop.columns\n",
    "mi.sort_values(ascending=False).plot(kind='bar', figsize=(20,10), color='#90a955')\n",
    "plt.title('Feature Correlation With Target Variable',fontsize=18)\n",
    "plt.show()"
   ]
  },
  {
   "cell_type": "code",
   "execution_count": 63,
   "id": "b66d1d9b",
   "metadata": {},
   "outputs": [
    {
     "data": {
      "text/html": [
       "<div>\n",
       "<style scoped>\n",
       "    .dataframe tbody tr th:only-of-type {\n",
       "        vertical-align: middle;\n",
       "    }\n",
       "\n",
       "    .dataframe tbody tr th {\n",
       "        vertical-align: top;\n",
       "    }\n",
       "\n",
       "    .dataframe thead th {\n",
       "        text-align: right;\n",
       "    }\n",
       "</style>\n",
       "<table border=\"1\" class=\"dataframe\">\n",
       "  <thead>\n",
       "    <tr style=\"text-align: right;\">\n",
       "      <th></th>\n",
       "      <th>FLAG_OWN_CAR</th>\n",
       "      <th>CNT_CHILDREN</th>\n",
       "      <th>AMT_INCOME_TOTAL</th>\n",
       "      <th>AMT_CREDIT</th>\n",
       "      <th>DAYS_BIRTH</th>\n",
       "      <th>CNT_FAM_MEMBERS</th>\n",
       "      <th>REGION_RATING_CLIENT</th>\n",
       "      <th>NAME_CONTRACT_TYPE_Cash loans</th>\n",
       "      <th>CODE_GENDER_F</th>\n",
       "      <th>CODE_GENDER_M</th>\n",
       "    </tr>\n",
       "  </thead>\n",
       "  <tbody>\n",
       "    <tr>\n",
       "      <th>115415</th>\n",
       "      <td>0</td>\n",
       "      <td>0</td>\n",
       "      <td>90000.0</td>\n",
       "      <td>161730.0</td>\n",
       "      <td>54.0</td>\n",
       "      <td>2.0</td>\n",
       "      <td>2</td>\n",
       "      <td>1</td>\n",
       "      <td>1</td>\n",
       "      <td>0</td>\n",
       "    </tr>\n",
       "    <tr>\n",
       "      <th>260031</th>\n",
       "      <td>0</td>\n",
       "      <td>1</td>\n",
       "      <td>112500.0</td>\n",
       "      <td>521280.0</td>\n",
       "      <td>28.0</td>\n",
       "      <td>3.0</td>\n",
       "      <td>3</td>\n",
       "      <td>1</td>\n",
       "      <td>1</td>\n",
       "      <td>0</td>\n",
       "    </tr>\n",
       "    <tr>\n",
       "      <th>128753</th>\n",
       "      <td>1</td>\n",
       "      <td>1</td>\n",
       "      <td>103500.0</td>\n",
       "      <td>315000.0</td>\n",
       "      <td>31.0</td>\n",
       "      <td>3.0</td>\n",
       "      <td>2</td>\n",
       "      <td>0</td>\n",
       "      <td>1</td>\n",
       "      <td>0</td>\n",
       "    </tr>\n",
       "    <tr>\n",
       "      <th>12997</th>\n",
       "      <td>0</td>\n",
       "      <td>0</td>\n",
       "      <td>135000.0</td>\n",
       "      <td>536917.5</td>\n",
       "      <td>62.0</td>\n",
       "      <td>2.0</td>\n",
       "      <td>2</td>\n",
       "      <td>1</td>\n",
       "      <td>1</td>\n",
       "      <td>0</td>\n",
       "    </tr>\n",
       "    <tr>\n",
       "      <th>166440</th>\n",
       "      <td>0</td>\n",
       "      <td>0</td>\n",
       "      <td>81000.0</td>\n",
       "      <td>350860.5</td>\n",
       "      <td>65.0</td>\n",
       "      <td>1.0</td>\n",
       "      <td>2</td>\n",
       "      <td>1</td>\n",
       "      <td>1</td>\n",
       "      <td>0</td>\n",
       "    </tr>\n",
       "  </tbody>\n",
       "</table>\n",
       "</div>"
      ],
      "text/plain": [
       "        FLAG_OWN_CAR  CNT_CHILDREN  AMT_INCOME_TOTAL  AMT_CREDIT  DAYS_BIRTH  \\\n",
       "115415             0             0           90000.0    161730.0        54.0   \n",
       "260031             0             1          112500.0    521280.0        28.0   \n",
       "128753             1             1          103500.0    315000.0        31.0   \n",
       "12997              0             0          135000.0    536917.5        62.0   \n",
       "166440             0             0           81000.0    350860.5        65.0   \n",
       "\n",
       "        CNT_FAM_MEMBERS  REGION_RATING_CLIENT  NAME_CONTRACT_TYPE_Cash loans  \\\n",
       "115415              2.0                     2                              1   \n",
       "260031              3.0                     3                              1   \n",
       "128753              3.0                     2                              0   \n",
       "12997               2.0                     2                              1   \n",
       "166440              1.0                     2                              1   \n",
       "\n",
       "        CODE_GENDER_F  CODE_GENDER_M  \n",
       "115415              1              0  \n",
       "260031              1              0  \n",
       "128753              1              0  \n",
       "12997               1              0  \n",
       "166440              1              0  "
      ]
     },
     "execution_count": 63,
     "metadata": {},
     "output_type": "execute_result"
    }
   ],
   "source": [
    "# Select top 10 features\n",
    "X_train_top10 = X_train_drop.drop(['NAME_CONTRACT_TYPE_Revolving loans','REG_REGION_NOT_LIVE_REGION'],axis=1)\n",
    "X_train_top10.head()"
   ]
  },
  {
   "cell_type": "markdown",
   "id": "f080e44d",
   "metadata": {},
   "source": [
    "## 13. Transform Object to Numeric - Testing Data"
   ]
  },
  {
   "cell_type": "code",
   "execution_count": 64,
   "id": "3447575e",
   "metadata": {},
   "outputs": [],
   "source": [
    "### Encoding yes or no\n",
    "for colname in ['FLAG_OWN_CAR', 'FLAG_OWN_REALTY']:\n",
    "    X_test[colname] = X_test[colname].map(yes_no_dict)"
   ]
  },
  {
   "cell_type": "code",
   "execution_count": 65,
   "id": "96606f0e",
   "metadata": {},
   "outputs": [],
   "source": [
    "## One Hot Encoding\n",
    "X_test = pd.get_dummies(X_test,columns=['NAME_CONTRACT_TYPE'])\n",
    "X_test = pd.get_dummies(X_test,columns=['CODE_GENDER'])"
   ]
  },
  {
   "cell_type": "code",
   "execution_count": 66,
   "id": "6c384ffa",
   "metadata": {},
   "outputs": [
    {
     "data": {
      "text/html": [
       "<div>\n",
       "<style scoped>\n",
       "    .dataframe tbody tr th:only-of-type {\n",
       "        vertical-align: middle;\n",
       "    }\n",
       "\n",
       "    .dataframe tbody tr th {\n",
       "        vertical-align: top;\n",
       "    }\n",
       "\n",
       "    .dataframe thead th {\n",
       "        text-align: right;\n",
       "    }\n",
       "</style>\n",
       "<table border=\"1\" class=\"dataframe\">\n",
       "  <thead>\n",
       "    <tr style=\"text-align: right;\">\n",
       "      <th></th>\n",
       "      <th>FLAG_OWN_CAR</th>\n",
       "      <th>CNT_CHILDREN</th>\n",
       "      <th>AMT_INCOME_TOTAL</th>\n",
       "      <th>AMT_CREDIT</th>\n",
       "      <th>DAYS_BIRTH</th>\n",
       "      <th>CNT_FAM_MEMBERS</th>\n",
       "      <th>REGION_RATING_CLIENT</th>\n",
       "      <th>NAME_CONTRACT_TYPE_Cash loans</th>\n",
       "      <th>CODE_GENDER_F</th>\n",
       "      <th>CODE_GENDER_M</th>\n",
       "    </tr>\n",
       "  </thead>\n",
       "  <tbody>\n",
       "    <tr>\n",
       "      <th>229269</th>\n",
       "      <td>0</td>\n",
       "      <td>1</td>\n",
       "      <td>157500.0</td>\n",
       "      <td>592560.0</td>\n",
       "      <td>34.0</td>\n",
       "      <td>2.0</td>\n",
       "      <td>2</td>\n",
       "      <td>1</td>\n",
       "      <td>0</td>\n",
       "      <td>1</td>\n",
       "    </tr>\n",
       "    <tr>\n",
       "      <th>142049</th>\n",
       "      <td>1</td>\n",
       "      <td>0</td>\n",
       "      <td>211500.0</td>\n",
       "      <td>1100709.0</td>\n",
       "      <td>47.0</td>\n",
       "      <td>2.0</td>\n",
       "      <td>2</td>\n",
       "      <td>1</td>\n",
       "      <td>0</td>\n",
       "      <td>1</td>\n",
       "    </tr>\n",
       "    <tr>\n",
       "      <th>119753</th>\n",
       "      <td>1</td>\n",
       "      <td>2</td>\n",
       "      <td>126000.0</td>\n",
       "      <td>270000.0</td>\n",
       "      <td>40.0</td>\n",
       "      <td>4.0</td>\n",
       "      <td>2</td>\n",
       "      <td>0</td>\n",
       "      <td>1</td>\n",
       "      <td>0</td>\n",
       "    </tr>\n",
       "    <tr>\n",
       "      <th>259016</th>\n",
       "      <td>0</td>\n",
       "      <td>0</td>\n",
       "      <td>225000.0</td>\n",
       "      <td>343800.0</td>\n",
       "      <td>25.0</td>\n",
       "      <td>1.0</td>\n",
       "      <td>2</td>\n",
       "      <td>1</td>\n",
       "      <td>1</td>\n",
       "      <td>0</td>\n",
       "    </tr>\n",
       "    <tr>\n",
       "      <th>54373</th>\n",
       "      <td>0</td>\n",
       "      <td>0</td>\n",
       "      <td>112500.0</td>\n",
       "      <td>497520.0</td>\n",
       "      <td>50.0</td>\n",
       "      <td>2.0</td>\n",
       "      <td>2</td>\n",
       "      <td>1</td>\n",
       "      <td>0</td>\n",
       "      <td>1</td>\n",
       "    </tr>\n",
       "  </tbody>\n",
       "</table>\n",
       "</div>"
      ],
      "text/plain": [
       "        FLAG_OWN_CAR  CNT_CHILDREN  AMT_INCOME_TOTAL  AMT_CREDIT  DAYS_BIRTH  \\\n",
       "229269             0             1          157500.0    592560.0        34.0   \n",
       "142049             1             0          211500.0   1100709.0        47.0   \n",
       "119753             1             2          126000.0    270000.0        40.0   \n",
       "259016             0             0          225000.0    343800.0        25.0   \n",
       "54373              0             0          112500.0    497520.0        50.0   \n",
       "\n",
       "        CNT_FAM_MEMBERS  REGION_RATING_CLIENT  NAME_CONTRACT_TYPE_Cash loans  \\\n",
       "229269              2.0                     2                              1   \n",
       "142049              2.0                     2                              1   \n",
       "119753              4.0                     2                              0   \n",
       "259016              1.0                     2                              1   \n",
       "54373               2.0                     2                              1   \n",
       "\n",
       "        CODE_GENDER_F  CODE_GENDER_M  \n",
       "229269              0              1  \n",
       "142049              0              1  \n",
       "119753              1              0  \n",
       "259016              1              0  \n",
       "54373               0              1  "
      ]
     },
     "execution_count": 66,
     "metadata": {},
     "output_type": "execute_result"
    }
   ],
   "source": [
    "X_test_top10 = X_test.copy()\n",
    "X_test_top10 = X_test_top10[X_train_top10.columns]\n",
    "X_test_top10.head()"
   ]
  },
  {
   "cell_type": "markdown",
   "id": "ffb251c6",
   "metadata": {},
   "source": [
    "## 14. Feature Transformation"
   ]
  },
  {
   "cell_type": "code",
   "execution_count": 67,
   "id": "04d7f62f",
   "metadata": {},
   "outputs": [],
   "source": [
    "# Select feature yang akan di log transform\n",
    "feature_t = ['CNT_CHILDREN','AMT_INCOME_TOTAL','AMT_CREDIT','CNT_FAM_MEMBERS']"
   ]
  },
  {
   "cell_type": "code",
   "execution_count": 68,
   "id": "afffd384",
   "metadata": {},
   "outputs": [
    {
     "data": {
      "image/png": "[encoded data removed]",
      "text/plain": [
       "<Figure size 1512x360 with 4 Axes>"
      ]
     },
     "metadata": {},
     "output_type": "display_data"
    }
   ],
   "source": [
    "plt.figure(figsize=(21,5))\n",
    "\n",
    "for x in range(0, len(feature_t)):\n",
    "    plt.subplot(1, len(feature_t), x+1)\n",
    "    sns.distplot(x=X_train_top10[feature_t[x]], color='skyblue')\n",
    "    plt.title(f' Distribusi {feature_t[x]} sebelum Transformasi')\n",
    "    plt.tight_layout()"
   ]
  },
  {
   "cell_type": "code",
   "execution_count": 69,
   "id": "9723aaa1",
   "metadata": {},
   "outputs": [
    {
     "data": {
      "image/png": "[encoded data removed]",
      "text/plain": [
       "<Figure size 1512x360 with 4 Axes>"
      ]
     },
     "metadata": {},
     "output_type": "display_data"
    }
   ],
   "source": [
    "plt.figure(figsize=(21,5))\n",
    "\n",
    "for x in range(0, len(feature_t)):\n",
    "    plt.subplot(1, len(feature_t), x+1)\n",
    "    sns.distplot(x=np.log1p(X_train_top10[feature_t[x]]), color='skyblue')\n",
    "    plt.title(f' Distribusi {feature_t[x]} setelah Transformasi')\n",
    "    plt.tight_layout()"
   ]
  },
  {
   "cell_type": "markdown",
   "id": "09bfd053",
   "metadata": {},
   "source": [
    "## 15. Feature Scalling"
   ]
  },
  {
   "cell_type": "code",
   "execution_count": 70,
   "id": "82153b03",
   "metadata": {},
   "outputs": [],
   "source": [
    "from sklearn.preprocessing import StandardScaler\n",
    "scaler = StandardScaler()"
   ]
  },
  {
   "cell_type": "markdown",
   "id": "ae04c217",
   "metadata": {},
   "source": [
    "#### Data Training"
   ]
  },
  {
   "cell_type": "code",
   "execution_count": 71,
   "id": "6af5fcee",
   "metadata": {},
   "outputs": [
    {
     "data": {
      "text/html": [
       "<div>\n",
       "<style scoped>\n",
       "    .dataframe tbody tr th:only-of-type {\n",
       "        vertical-align: middle;\n",
       "    }\n",
       "\n",
       "    .dataframe tbody tr th {\n",
       "        vertical-align: top;\n",
       "    }\n",
       "\n",
       "    .dataframe thead th {\n",
       "        text-align: right;\n",
       "    }\n",
       "</style>\n",
       "<table border=\"1\" class=\"dataframe\">\n",
       "  <thead>\n",
       "    <tr style=\"text-align: right;\">\n",
       "      <th></th>\n",
       "      <th>FLAG_OWN_CAR</th>\n",
       "      <th>CNT_CHILDREN</th>\n",
       "      <th>AMT_INCOME_TOTAL</th>\n",
       "      <th>AMT_CREDIT</th>\n",
       "      <th>DAYS_BIRTH</th>\n",
       "      <th>CNT_FAM_MEMBERS</th>\n",
       "      <th>REGION_RATING_CLIENT</th>\n",
       "      <th>NAME_CONTRACT_TYPE_Cash loans</th>\n",
       "      <th>CODE_GENDER_F</th>\n",
       "      <th>CODE_GENDER_M</th>\n",
       "    </tr>\n",
       "  </thead>\n",
       "  <tbody>\n",
       "    <tr>\n",
       "      <th>115415</th>\n",
       "      <td>0</td>\n",
       "      <td>0</td>\n",
       "      <td>90000.0</td>\n",
       "      <td>161730.0</td>\n",
       "      <td>54.0</td>\n",
       "      <td>2.0</td>\n",
       "      <td>2</td>\n",
       "      <td>1</td>\n",
       "      <td>1</td>\n",
       "      <td>0</td>\n",
       "    </tr>\n",
       "    <tr>\n",
       "      <th>260031</th>\n",
       "      <td>0</td>\n",
       "      <td>1</td>\n",
       "      <td>112500.0</td>\n",
       "      <td>521280.0</td>\n",
       "      <td>28.0</td>\n",
       "      <td>3.0</td>\n",
       "      <td>3</td>\n",
       "      <td>1</td>\n",
       "      <td>1</td>\n",
       "      <td>0</td>\n",
       "    </tr>\n",
       "    <tr>\n",
       "      <th>128753</th>\n",
       "      <td>1</td>\n",
       "      <td>1</td>\n",
       "      <td>103500.0</td>\n",
       "      <td>315000.0</td>\n",
       "      <td>31.0</td>\n",
       "      <td>3.0</td>\n",
       "      <td>2</td>\n",
       "      <td>0</td>\n",
       "      <td>1</td>\n",
       "      <td>0</td>\n",
       "    </tr>\n",
       "    <tr>\n",
       "      <th>12997</th>\n",
       "      <td>0</td>\n",
       "      <td>0</td>\n",
       "      <td>135000.0</td>\n",
       "      <td>536917.5</td>\n",
       "      <td>62.0</td>\n",
       "      <td>2.0</td>\n",
       "      <td>2</td>\n",
       "      <td>1</td>\n",
       "      <td>1</td>\n",
       "      <td>0</td>\n",
       "    </tr>\n",
       "    <tr>\n",
       "      <th>166440</th>\n",
       "      <td>0</td>\n",
       "      <td>0</td>\n",
       "      <td>81000.0</td>\n",
       "      <td>350860.5</td>\n",
       "      <td>65.0</td>\n",
       "      <td>1.0</td>\n",
       "      <td>2</td>\n",
       "      <td>1</td>\n",
       "      <td>1</td>\n",
       "      <td>0</td>\n",
       "    </tr>\n",
       "  </tbody>\n",
       "</table>\n",
       "</div>"
      ],
      "text/plain": [
       "        FLAG_OWN_CAR  CNT_CHILDREN  AMT_INCOME_TOTAL  AMT_CREDIT  DAYS_BIRTH  \\\n",
       "115415             0             0           90000.0    161730.0        54.0   \n",
       "260031             0             1          112500.0    521280.0        28.0   \n",
       "128753             1             1          103500.0    315000.0        31.0   \n",
       "12997              0             0          135000.0    536917.5        62.0   \n",
       "166440             0             0           81000.0    350860.5        65.0   \n",
       "\n",
       "        CNT_FAM_MEMBERS  REGION_RATING_CLIENT  NAME_CONTRACT_TYPE_Cash loans  \\\n",
       "115415              2.0                     2                              1   \n",
       "260031              3.0                     3                              1   \n",
       "128753              3.0                     2                              0   \n",
       "12997               2.0                     2                              1   \n",
       "166440              1.0                     2                              1   \n",
       "\n",
       "        CODE_GENDER_F  CODE_GENDER_M  \n",
       "115415              1              0  \n",
       "260031              1              0  \n",
       "128753              1              0  \n",
       "12997               1              0  \n",
       "166440              1              0  "
      ]
     },
     "execution_count": 71,
     "metadata": {},
     "output_type": "execute_result"
    }
   ],
   "source": [
    "X_train_top10.head()"
   ]
  },
  {
   "cell_type": "code",
   "execution_count": 72,
   "id": "4f9ee665",
   "metadata": {},
   "outputs": [],
   "source": [
    "feature_s = ['FLAG_OWN_CAR','CNT_CHILDREN','AMT_INCOME_TOTAL','AMT_CREDIT', 'DAYS_BIRTH','CNT_FAM_MEMBERS','REGION_RATING_CLIENT']"
   ]
  },
  {
   "cell_type": "code",
   "execution_count": 73,
   "id": "c1d2992d",
   "metadata": {},
   "outputs": [],
   "source": [
    "X_train_top10[feature_s] = scaler.fit_transform(X_train_top10[feature_s])"
   ]
  },
  {
   "cell_type": "code",
   "execution_count": 74,
   "id": "4381540e",
   "metadata": {
    "scrolled": true
   },
   "outputs": [
    {
     "data": {
      "text/html": [
       "<div>\n",
       "<style scoped>\n",
       "    .dataframe tbody tr th:only-of-type {\n",
       "        vertical-align: middle;\n",
       "    }\n",
       "\n",
       "    .dataframe tbody tr th {\n",
       "        vertical-align: top;\n",
       "    }\n",
       "\n",
       "    .dataframe thead th {\n",
       "        text-align: right;\n",
       "    }\n",
       "</style>\n",
       "<table border=\"1\" class=\"dataframe\">\n",
       "  <thead>\n",
       "    <tr style=\"text-align: right;\">\n",
       "      <th></th>\n",
       "      <th>FLAG_OWN_CAR</th>\n",
       "      <th>CNT_CHILDREN</th>\n",
       "      <th>AMT_INCOME_TOTAL</th>\n",
       "      <th>AMT_CREDIT</th>\n",
       "      <th>DAYS_BIRTH</th>\n",
       "      <th>CNT_FAM_MEMBERS</th>\n",
       "      <th>REGION_RATING_CLIENT</th>\n",
       "      <th>NAME_CONTRACT_TYPE_Cash loans</th>\n",
       "      <th>CODE_GENDER_F</th>\n",
       "      <th>CODE_GENDER_M</th>\n",
       "    </tr>\n",
       "  </thead>\n",
       "  <tbody>\n",
       "    <tr>\n",
       "      <th>115415</th>\n",
       "      <td>-0.716824</td>\n",
       "      <td>-0.579275</td>\n",
       "      <td>-0.697269</td>\n",
       "      <td>-1.087202</td>\n",
       "      <td>0.841436</td>\n",
       "      <td>-0.168534</td>\n",
       "      <td>-0.103194</td>\n",
       "      <td>1</td>\n",
       "      <td>1</td>\n",
       "      <td>0</td>\n",
       "    </tr>\n",
       "    <tr>\n",
       "      <th>260031</th>\n",
       "      <td>-0.716824</td>\n",
       "      <td>0.804384</td>\n",
       "      <td>-0.497727</td>\n",
       "      <td>-0.194853</td>\n",
       "      <td>-1.332592</td>\n",
       "      <td>0.927930</td>\n",
       "      <td>1.859158</td>\n",
       "      <td>1</td>\n",
       "      <td>1</td>\n",
       "      <td>0</td>\n",
       "    </tr>\n",
       "    <tr>\n",
       "      <th>128753</th>\n",
       "      <td>1.395042</td>\n",
       "      <td>0.804384</td>\n",
       "      <td>-0.577544</td>\n",
       "      <td>-0.706809</td>\n",
       "      <td>-1.081743</td>\n",
       "      <td>0.927930</td>\n",
       "      <td>-0.103194</td>\n",
       "      <td>0</td>\n",
       "      <td>1</td>\n",
       "      <td>0</td>\n",
       "    </tr>\n",
       "    <tr>\n",
       "      <th>12997</th>\n",
       "      <td>-0.716824</td>\n",
       "      <td>-0.579275</td>\n",
       "      <td>-0.298186</td>\n",
       "      <td>-0.156043</td>\n",
       "      <td>1.510367</td>\n",
       "      <td>-0.168534</td>\n",
       "      <td>-0.103194</td>\n",
       "      <td>1</td>\n",
       "      <td>1</td>\n",
       "      <td>0</td>\n",
       "    </tr>\n",
       "    <tr>\n",
       "      <th>166440</th>\n",
       "      <td>-0.716824</td>\n",
       "      <td>-0.579275</td>\n",
       "      <td>-0.777085</td>\n",
       "      <td>-0.617809</td>\n",
       "      <td>1.761217</td>\n",
       "      <td>-1.264998</td>\n",
       "      <td>-0.103194</td>\n",
       "      <td>1</td>\n",
       "      <td>1</td>\n",
       "      <td>0</td>\n",
       "    </tr>\n",
       "  </tbody>\n",
       "</table>\n",
       "</div>"
      ],
      "text/plain": [
       "        FLAG_OWN_CAR  CNT_CHILDREN  AMT_INCOME_TOTAL  AMT_CREDIT  DAYS_BIRTH  \\\n",
       "115415     -0.716824     -0.579275         -0.697269   -1.087202    0.841436   \n",
       "260031     -0.716824      0.804384         -0.497727   -0.194853   -1.332592   \n",
       "128753      1.395042      0.804384         -0.577544   -0.706809   -1.081743   \n",
       "12997      -0.716824     -0.579275         -0.298186   -0.156043    1.510367   \n",
       "166440     -0.716824     -0.579275         -0.777085   -0.617809    1.761217   \n",
       "\n",
       "        CNT_FAM_MEMBERS  REGION_RATING_CLIENT  NAME_CONTRACT_TYPE_Cash loans  \\\n",
       "115415        -0.168534             -0.103194                              1   \n",
       "260031         0.927930              1.859158                              1   \n",
       "128753         0.927930             -0.103194                              0   \n",
       "12997         -0.168534             -0.103194                              1   \n",
       "166440        -1.264998             -0.103194                              1   \n",
       "\n",
       "        CODE_GENDER_F  CODE_GENDER_M  \n",
       "115415              1              0  \n",
       "260031              1              0  \n",
       "128753              1              0  \n",
       "12997               1              0  \n",
       "166440              1              0  "
      ]
     },
     "execution_count": 74,
     "metadata": {},
     "output_type": "execute_result"
    }
   ],
   "source": [
    "X_train_top10.head()"
   ]
  },
  {
   "cell_type": "code",
   "execution_count": null,
   "id": "f1117ca8",
   "metadata": {},
   "outputs": [],
   "source": []
  },
  {
   "cell_type": "markdown",
   "id": "2e99dfa2",
   "metadata": {},
   "source": [
    "#### Data Testing"
   ]
  },
  {
   "cell_type": "code",
   "execution_count": 75,
   "id": "7b559498",
   "metadata": {},
   "outputs": [],
   "source": [
    "X_test_top10[feature_s] = scaler.fit_transform(X_test_top10[feature_s])"
   ]
  },
  {
   "cell_type": "code",
   "execution_count": 76,
   "id": "edceae67",
   "metadata": {},
   "outputs": [
    {
     "data": {
      "text/html": [
       "<div>\n",
       "<style scoped>\n",
       "    .dataframe tbody tr th:only-of-type {\n",
       "        vertical-align: middle;\n",
       "    }\n",
       "\n",
       "    .dataframe tbody tr th {\n",
       "        vertical-align: top;\n",
       "    }\n",
       "\n",
       "    .dataframe thead th {\n",
       "        text-align: right;\n",
       "    }\n",
       "</style>\n",
       "<table border=\"1\" class=\"dataframe\">\n",
       "  <thead>\n",
       "    <tr style=\"text-align: right;\">\n",
       "      <th></th>\n",
       "      <th>FLAG_OWN_CAR</th>\n",
       "      <th>CNT_CHILDREN</th>\n",
       "      <th>AMT_INCOME_TOTAL</th>\n",
       "      <th>AMT_CREDIT</th>\n",
       "      <th>DAYS_BIRTH</th>\n",
       "      <th>CNT_FAM_MEMBERS</th>\n",
       "      <th>REGION_RATING_CLIENT</th>\n",
       "      <th>NAME_CONTRACT_TYPE_Cash loans</th>\n",
       "      <th>CODE_GENDER_F</th>\n",
       "      <th>CODE_GENDER_M</th>\n",
       "    </tr>\n",
       "  </thead>\n",
       "  <tbody>\n",
       "    <tr>\n",
       "      <th>229269</th>\n",
       "      <td>-0.721193</td>\n",
       "      <td>0.816020</td>\n",
       "      <td>-0.107273</td>\n",
       "      <td>-0.010419</td>\n",
       "      <td>-0.830224</td>\n",
       "      <td>-0.164895</td>\n",
       "      <td>-0.102655</td>\n",
       "      <td>1</td>\n",
       "      <td>0</td>\n",
       "      <td>1</td>\n",
       "    </tr>\n",
       "    <tr>\n",
       "      <th>142049</th>\n",
       "      <td>1.386591</td>\n",
       "      <td>-0.572312</td>\n",
       "      <td>0.455235</td>\n",
       "      <td>1.256193</td>\n",
       "      <td>0.255098</td>\n",
       "      <td>-0.164895</td>\n",
       "      <td>-0.102655</td>\n",
       "      <td>1</td>\n",
       "      <td>0</td>\n",
       "      <td>1</td>\n",
       "    </tr>\n",
       "    <tr>\n",
       "      <th>119753</th>\n",
       "      <td>1.386591</td>\n",
       "      <td>2.204352</td>\n",
       "      <td>-0.435403</td>\n",
       "      <td>-0.814432</td>\n",
       "      <td>-0.329306</td>\n",
       "      <td>2.041083</td>\n",
       "      <td>-0.102655</td>\n",
       "      <td>0</td>\n",
       "      <td>1</td>\n",
       "      <td>0</td>\n",
       "    </tr>\n",
       "    <tr>\n",
       "      <th>259016</th>\n",
       "      <td>-0.721193</td>\n",
       "      <td>-0.572312</td>\n",
       "      <td>0.595862</td>\n",
       "      <td>-0.630479</td>\n",
       "      <td>-1.581601</td>\n",
       "      <td>-1.267884</td>\n",
       "      <td>-0.102655</td>\n",
       "      <td>1</td>\n",
       "      <td>1</td>\n",
       "      <td>0</td>\n",
       "    </tr>\n",
       "    <tr>\n",
       "      <th>54373</th>\n",
       "      <td>-0.721193</td>\n",
       "      <td>-0.572312</td>\n",
       "      <td>-0.576029</td>\n",
       "      <td>-0.247316</td>\n",
       "      <td>0.505557</td>\n",
       "      <td>-0.164895</td>\n",
       "      <td>-0.102655</td>\n",
       "      <td>1</td>\n",
       "      <td>0</td>\n",
       "      <td>1</td>\n",
       "    </tr>\n",
       "  </tbody>\n",
       "</table>\n",
       "</div>"
      ],
      "text/plain": [
       "        FLAG_OWN_CAR  CNT_CHILDREN  AMT_INCOME_TOTAL  AMT_CREDIT  DAYS_BIRTH  \\\n",
       "229269     -0.721193      0.816020         -0.107273   -0.010419   -0.830224   \n",
       "142049      1.386591     -0.572312          0.455235    1.256193    0.255098   \n",
       "119753      1.386591      2.204352         -0.435403   -0.814432   -0.329306   \n",
       "259016     -0.721193     -0.572312          0.595862   -0.630479   -1.581601   \n",
       "54373      -0.721193     -0.572312         -0.576029   -0.247316    0.505557   \n",
       "\n",
       "        CNT_FAM_MEMBERS  REGION_RATING_CLIENT  NAME_CONTRACT_TYPE_Cash loans  \\\n",
       "229269        -0.164895             -0.102655                              1   \n",
       "142049        -0.164895             -0.102655                              1   \n",
       "119753         2.041083             -0.102655                              0   \n",
       "259016        -1.267884             -0.102655                              1   \n",
       "54373         -0.164895             -0.102655                              1   \n",
       "\n",
       "        CODE_GENDER_F  CODE_GENDER_M  \n",
       "229269              0              1  \n",
       "142049              0              1  \n",
       "119753              1              0  \n",
       "259016              1              0  \n",
       "54373               0              1  "
      ]
     },
     "execution_count": 76,
     "metadata": {},
     "output_type": "execute_result"
    }
   ],
   "source": [
    "X_test_top10.head()"
   ]
  },
  {
   "cell_type": "code",
   "execution_count": null,
   "id": "70f65e3d",
   "metadata": {},
   "outputs": [],
   "source": []
  },
  {
   "cell_type": "markdown",
   "id": "cd66c9b7",
   "metadata": {},
   "source": [
    "## 16. Over Sampling"
   ]
  },
  {
   "cell_type": "code",
   "execution_count": 77,
   "id": "c754c96d",
   "metadata": {},
   "outputs": [],
   "source": [
    "from imblearn.over_sampling import SMOTE"
   ]
  },
  {
   "cell_type": "code",
   "execution_count": 78,
   "id": "7f4ce73a",
   "metadata": {},
   "outputs": [],
   "source": [
    "smote = SMOTE(0.5,random_state=42)"
   ]
  },
  {
   "cell_type": "code",
   "execution_count": 79,
   "id": "98d1eaf3",
   "metadata": {},
   "outputs": [
    {
     "data": {
      "text/plain": [
       "0    212009\n",
       "1     18618\n",
       "Name: TARGET, dtype: int64"
      ]
     },
     "execution_count": 79,
     "metadata": {},
     "output_type": "execute_result"
    }
   ],
   "source": [
    "pd.Series(y_train).value_counts()"
   ]
  },
  {
   "cell_type": "code",
   "execution_count": 80,
   "id": "693edafb",
   "metadata": {},
   "outputs": [],
   "source": [
    "X_train_smote,y_train_smote = smote.fit_resample(X_train_top10,y_train)"
   ]
  },
  {
   "cell_type": "code",
   "execution_count": 81,
   "id": "9677209c",
   "metadata": {},
   "outputs": [
    {
     "data": {
      "text/plain": [
       "0    212009\n",
       "1    106004\n",
       "Name: TARGET, dtype: int64"
      ]
     },
     "execution_count": 81,
     "metadata": {},
     "output_type": "execute_result"
    }
   ],
   "source": [
    "pd.Series(y_train_smote).value_counts()"
   ]
  },
  {
   "cell_type": "code",
   "execution_count": null,
   "id": "39140af6",
   "metadata": {},
   "outputs": [],
   "source": []
  },
  {
   "cell_type": "markdown",
   "id": "224e72ad",
   "metadata": {},
   "source": [
    "# Model,Evaluation, Feature Importance"
   ]
  },
  {
   "cell_type": "markdown",
   "id": "04e5d186",
   "metadata": {},
   "source": [
    "## 17. Model"
   ]
  },
  {
   "cell_type": "markdown",
   "id": "c8f6fa9c",
   "metadata": {},
   "source": [
    "### 17.1 Logistic Regression"
   ]
  },
  {
   "cell_type": "code",
   "execution_count": 82,
   "id": "32a3e8f8",
   "metadata": {},
   "outputs": [],
   "source": [
    "logreg_model = LogisticRegression(random_state=42,class_weight='balance')"
   ]
  },
  {
   "cell_type": "code",
   "execution_count": 83,
   "id": "b0a4ceb2",
   "metadata": {},
   "outputs": [
    {
     "name": "stdout",
     "output_type": "stream",
     "text": [
      " Recall Score : 0.0\n",
      " Precision Score : 0.0\n",
      " F1 Score : 0.0\n",
      " ROC-AUC Score : 0.631553698692668\n"
     ]
    },
    {
     "data": {
      "image/png": "[encoded data removed]",
      "text/plain": [
       "<Figure size 576x396 with 2 Axes>"
      ]
     },
     "metadata": {},
     "output_type": "display_data"
    }
   ],
   "source": [
    "eval_train(X_train_top10,y_train,logreg_model)"
   ]
  },
  {
   "cell_type": "code",
   "execution_count": 84,
   "id": "e139ed01",
   "metadata": {},
   "outputs": [
    {
     "name": "stdout",
     "output_type": "stream",
     "text": [
      " Recall Score : 0.0\n",
      " Precision Score : 0.0\n",
      " F1 Score : 0.0\n",
      " ROC-AUC Score : 0.6291049623841237\n"
     ]
    },
    {
     "data": {
      "image/png": "[encoded data removed]",
      "text/plain": [
       "<Figure size 576x396 with 2 Axes>"
      ]
     },
     "metadata": {},
     "output_type": "display_data"
    }
   ],
   "source": [
    "eval_test(X_test_top10,y_test,logreg_model)"
   ]
  },
  {
   "cell_type": "markdown",
   "id": "7f2ac570",
   "metadata": {},
   "source": [
    "### Over Sampling SMOTE"
   ]
  },
  {
   "cell_type": "code",
   "execution_count": 85,
   "id": "6c01c978",
   "metadata": {},
   "outputs": [
    {
     "name": "stdout",
     "output_type": "stream",
     "text": [
      " Recall Score : 0.1160710916569186\n",
      " Precision Score : 0.54123960761888\n",
      " F1 Score : 0.19114939760907898\n",
      " ROC-AUC Score : 0.6338567095670399\n"
     ]
    },
    {
     "data": {
      "image/png": "[encoded data removed]",
      "text/plain": [
       "<Figure size 576x396 with 2 Axes>"
      ]
     },
     "metadata": {},
     "output_type": "display_data"
    }
   ],
   "source": [
    "eval_train(X_train_smote,y_train_smote,logreg_model)"
   ]
  },
  {
   "cell_type": "code",
   "execution_count": 86,
   "id": "8ab403b6",
   "metadata": {},
   "outputs": [
    {
     "name": "stdout",
     "output_type": "stream",
     "text": [
      " Recall Score : 0.11263293586851435\n",
      " Precision Score : 0.16579696394686907\n",
      " F1 Score : 0.13413932066781808\n",
      " ROC-AUC Score : 0.6285540077768323\n"
     ]
    },
    {
     "data": {
      "image/png": "[encoded data removed]",
      "text/plain": [
       "<Figure size 576x396 with 2 Axes>"
      ]
     },
     "metadata": {},
     "output_type": "display_data"
    }
   ],
   "source": [
    "eval_test(X_test_top10,y_test,logreg_model)"
   ]
  },
  {
   "cell_type": "markdown",
   "id": "7e8771db",
   "metadata": {},
   "source": [
    "### 17.2 KNN"
   ]
  },
  {
   "cell_type": "code",
   "execution_count": 87,
   "id": "d76a93cb",
   "metadata": {},
   "outputs": [],
   "source": [
    "knn_model = KNeighborsClassifier()"
   ]
  },
  {
   "cell_type": "code",
   "execution_count": 88,
   "id": "aa5d6bff",
   "metadata": {},
   "outputs": [
    {
     "name": "stdout",
     "output_type": "stream",
     "text": [
      " Recall Score : 0.06284241057041573\n",
      " Precision Score : 0.6236673773987207\n",
      " F1 Score : 0.11417975992973553\n",
      " ROC-AUC Score : 0.8899987101739961\n"
     ]
    },
    {
     "data": {
      "image/png": "[encoded data removed]",
      "text/plain": [
       "<Figure size 576x396 with 2 Axes>"
      ]
     },
     "metadata": {},
     "output_type": "display_data"
    }
   ],
   "source": [
    "eval_train(X_train_top10,y_train,knn_model)"
   ]
  },
  {
   "cell_type": "code",
   "execution_count": 101,
   "id": "f36515fd",
   "metadata": {},
   "outputs": [
    {
     "name": "stdout",
     "output_type": "stream",
     "text": [
      " Recall Score : 0.015630035449564938\n",
      " Precision Score : 0.15746753246753248\n",
      " F1 Score : 0.02843740838463794\n",
      " ROC-AUC Score : 0.5422150955333264\n"
     ]
    },
    {
     "data": {
      "image/png": "[encoded data removed]",
      "text/plain": [
       "<Figure size 576x396 with 2 Axes>"
      ]
     },
     "metadata": {},
     "output_type": "display_data"
    }
   ],
   "source": [
    "eval_test(X_test_top10,y_test,knn_model)"
   ]
  },
  {
   "cell_type": "markdown",
   "id": "b124f169",
   "metadata": {},
   "source": [
    "### 17.3 Naive Bayes"
   ]
  },
  {
   "cell_type": "code",
   "execution_count": 90,
   "id": "9559428f",
   "metadata": {},
   "outputs": [],
   "source": [
    "naive = GaussianNB()"
   ]
  },
  {
   "cell_type": "code",
   "execution_count": 91,
   "id": "e888d0c9",
   "metadata": {},
   "outputs": [
    {
     "name": "stdout",
     "output_type": "stream",
     "text": [
      " Recall Score : 0.0045117628101836935\n",
      " Precision Score : 0.15412844036697249\n",
      " F1 Score : 0.008766894536346083\n",
      " ROC-AUC Score : 0.6173819328952707\n"
     ]
    },
    {
     "data": {
      "image/png": "[encoded data removed]",
      "text/plain": [
       "<Figure size 576x396 with 2 Axes>"
      ]
     },
     "metadata": {},
     "output_type": "display_data"
    }
   ],
   "source": [
    "eval_train(X_train_top10,y_train,naive)"
   ]
  },
  {
   "cell_type": "code",
   "execution_count": 92,
   "id": "576f4366",
   "metadata": {},
   "outputs": [
    {
     "name": "stdout",
     "output_type": "stream",
     "text": [
      " Recall Score : 0.00338382210763777\n",
      " Precision Score : 0.1320754716981132\n",
      " F1 Score : 0.006598586017282011\n",
      " ROC-AUC Score : 0.6168982078256503\n"
     ]
    },
    {
     "data": {
      "image/png": "[encoded data removed]",
      "text/plain": [
       "<Figure size 576x396 with 2 Axes>"
      ]
     },
     "metadata": {},
     "output_type": "display_data"
    }
   ],
   "source": [
    "eval_test(X_test_top10,y_test,naive)"
   ]
  },
  {
   "cell_type": "markdown",
   "id": "5acb2030",
   "metadata": {},
   "source": [
    "### Over Sampling Naive Bayes"
   ]
  },
  {
   "cell_type": "code",
   "execution_count": 93,
   "id": "47f16012",
   "metadata": {},
   "outputs": [
    {
     "name": "stdout",
     "output_type": "stream",
     "text": [
      " Recall Score : 0.41191841817289915\n",
      " Precision Score : 0.4537094763092269\n",
      " F1 Score : 0.4318051462589743\n",
      " ROC-AUC Score : 0.6229053760274031\n"
     ]
    },
    {
     "data": {
      "image/png": "[encoded data removed]",
      "text/plain": [
       "<Figure size 576x396 with 2 Axes>"
      ]
     },
     "metadata": {},
     "output_type": "display_data"
    }
   ],
   "source": [
    "eval_train(X_train_smote,y_train_smote,naive)"
   ]
  },
  {
   "cell_type": "code",
   "execution_count": 94,
   "id": "239ee510",
   "metadata": {},
   "outputs": [
    {
     "name": "stdout",
     "output_type": "stream",
     "text": [
      " Recall Score : 0.3881727360618756\n",
      " Precision Score : 0.1261983341191262\n",
      " F1 Score : 0.19047242538050996\n",
      " ROC-AUC Score : 0.6156715266818555\n"
     ]
    },
    {
     "data": {
      "image/png": "[encoded data removed]",
      "text/plain": [
       "<Figure size 576x396 with 2 Axes>"
      ]
     },
     "metadata": {},
     "output_type": "display_data"
    }
   ],
   "source": [
    "eval_test(X_test_top10,y_test,naive)"
   ]
  },
  {
   "cell_type": "markdown",
   "id": "fa689a44",
   "metadata": {},
   "source": [
    "### 17.4 Decision Tree"
   ]
  },
  {
   "cell_type": "code",
   "execution_count": 95,
   "id": "8b73a88c",
   "metadata": {},
   "outputs": [],
   "source": [
    "dt = DecisionTreeClassifier(random_state=42)"
   ]
  },
  {
   "cell_type": "code",
   "execution_count": 116,
   "id": "4da90683",
   "metadata": {},
   "outputs": [
    {
     "name": "stdout",
     "output_type": "stream",
     "text": [
      " Recall Score : 0.9043398861317005\n",
      " Precision Score : 0.998103029225206\n",
      " F1 Score : 0.9489108687688449\n",
      " ROC-AUC Score : 0.9995353910019146\n"
     ]
    },
    {
     "data": {
      "image/png": "[encoded data removed]",
      "text/plain": [
       "<Figure size 576x396 with 2 Axes>"
      ]
     },
     "metadata": {},
     "output_type": "display_data"
    }
   ],
   "source": [
    "eval_train(X_train_top10,y_train,dt)"
   ]
  },
  {
   "cell_type": "code",
   "execution_count": 97,
   "id": "abea2993",
   "metadata": {},
   "outputs": [
    {
     "name": "stdout",
     "output_type": "stream",
     "text": [
      " Recall Score : 0.1308411214953271\n",
      " Precision Score : 0.1025123090518874\n",
      " F1 Score : 0.11495717420542224\n",
      " ROC-AUC Score : 0.5150865024498167\n"
     ]
    },
    {
     "data": {
      "image/png": "[encoded data removed]",
      "text/plain": [
       "<Figure size 576x396 with 2 Axes>"
      ]
     },
     "metadata": {},
     "output_type": "display_data"
    }
   ],
   "source": [
    "eval_test(X_test_top10,y_test,dt)"
   ]
  },
  {
   "cell_type": "markdown",
   "id": "33032cc5",
   "metadata": {},
   "source": [
    "Konklusi : \n",
    "\n",
    "Dari beberapa model yang diuji, model yang dipilih adalah Naive Bayes dengan Over Sampling, karna memiliki f-1 score yang relatif tinggi dibandingkan yang lain yaitu 61%. Selain itu, model juga memiliki ROC-AUC Score yang tinggi yaitu 83%, maka model memiliki kemampuan untuk membedakan antara 0 dan 1 dengan baik."
   ]
  },
  {
   "cell_type": "markdown",
   "id": "65ffca43",
   "metadata": {},
   "source": [
    "# Recommendation"
   ]
  },
  {
   "cell_type": "markdown",
   "id": "d5212470",
   "metadata": {},
   "source": [
    "Selain model, dari analisa yang telah dilakukan terdapat beberapa insight yang dapat digunakan perusahaan dalam menentukan pinjaman pada pelanggan, antara lain :\n",
    "1. Pelanggan laki-laki lebih sering terlambat dalam pembayaran kredit\n",
    "2. Pelanggan yang tinggal dalam wilayah peringkat 3, lebih sering terlambat dalam pembayaran kredit\n",
    "3. Pelanggan yang memilih tipe kontrak Pinjaman Tunai (Cash) lebih sering terlambat dalam pembayaran kredit"
   ]
  },
  {
   "cell_type": "code",
   "execution_count": null,
   "id": "011b60dc",
   "metadata": {},
   "outputs": [],
   "source": []
  }
 ],
 "metadata": {
  "kernelspec": {
   "display_name": "Python 3 (ipykernel)",
   "language": "python",
   "name": "python3"
  },
  "language_info": {
   "codemirror_mode": {
    "name": "ipython",
    "version": 3
   },
   "file_extension": ".py",
   "mimetype": "text/x-python",
   "name": "python",
   "nbconvert_exporter": "python",
   "pygments_lexer": "ipython3",
   "version": "3.9.12"
  }
 },
 "nbformat": 4,
 "nbformat_minor": 5
}
